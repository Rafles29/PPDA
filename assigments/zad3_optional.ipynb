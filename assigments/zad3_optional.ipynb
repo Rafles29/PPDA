{
 "nbformat": 4,
 "nbformat_minor": 2,
 "metadata": {
  "language_info": {
   "name": "python",
   "codemirror_mode": {
    "name": "ipython",
    "version": 3
   },
   "version": "3.7.6-final"
  },
  "orig_nbformat": 2,
  "file_extension": ".py",
  "mimetype": "text/x-python",
  "name": "python",
  "npconvert_exporter": "python",
  "pygments_lexer": "ipython3",
  "version": 3,
  "kernelspec": {
   "name": "python37664bit5cb71ae6c9284e74898cd00430f38632",
   "display_name": "Python 3.7.6 64-bit"
  }
 },
 "cells": [
  {
   "cell_type": "code",
   "execution_count": 2,
   "metadata": {},
   "outputs": [
    {
     "output_type": "stream",
     "name": "stdout",
     "text": "a b c d\n1.2 3.4\n1 32.1\n2 1 9.0"
    }
   ],
   "source": [
    "inp = \"a b c d\\n1.2 3.4\\n1 32.1\\n2 1 9.0\"\n",
    "with open(\"data3_1.txt\",\"w\") as f:\n",
    "    f.write(inp)\n",
    "!cat data3_1.txt"
   ]
  },
  {
   "cell_type": "code",
   "execution_count": 6,
   "metadata": {},
   "outputs": [],
   "source": [
    "def sum_lines(file):\n",
    "    with open(file, \"r\") as f:\n",
    "        next(f)\n",
    "        return [sum(ans) for l in f for ans in [map(float, l.split(\" \"))]]"
   ]
  },
  {
   "cell_type": "code",
   "execution_count": 7,
   "metadata": {},
   "outputs": [
    {
     "output_type": "execute_result",
     "data": {
      "text/plain": "[4.6, 33.1, 12.0]"
     },
     "metadata": {},
     "execution_count": 7
    }
   ],
   "source": [
    "sum_lines('data3_1.txt')"
   ]
  },
  {
   "cell_type": "code",
   "execution_count": 9,
   "metadata": {},
   "outputs": [
    {
     "output_type": "stream",
     "name": "stdout",
     "text": "a b c d\n1.2 3.4 5.6 3.2\n1 32.1\n2 1 9.0 2 78.1"
    },
    {
     "output_type": "execute_result",
     "data": {
      "text/plain": "[13.399999999999999, 33.1, 92.1]"
     },
     "metadata": {},
     "execution_count": 9
    }
   ],
   "source": [
    "!cat data3_2.txt\n",
    "sum_lines('data3_2.txt')"
   ]
  },
  {
   "cell_type": "code",
   "execution_count": 19,
   "metadata": {},
   "outputs": [],
   "source": [
    "def filter_divisible(v):\n",
    "    with open('data3_3.txt') as f:\n",
    "        for l in f:\n",
    "            mapped = list(map(float, l.split(\" \")))\n",
    "            if len(list(filter(lambda el: el % 2 == 0 ,mapped))) > 0:\n",
    "                yield mapped"
   ]
  },
  {
   "cell_type": "code",
   "execution_count": 21,
   "metadata": {},
   "outputs": [
    {
     "output_type": "stream",
     "name": "stdout",
     "text": "1.2 4 5.6\n3.1 4.2 5\n1 32.1\n2 1.4"
    },
    {
     "output_type": "execute_result",
     "data": {
      "text/plain": "[[1.2, 4.0, 5.6], [2.0, 1.4]]"
     },
     "metadata": {},
     "execution_count": 21
    }
   ],
   "source": [
    "!cat data3_3.txt\n",
    "list(filter_divisible(2))"
   ]
  },
  {
   "cell_type": "code",
   "execution_count": null,
   "metadata": {},
   "outputs": [],
   "source": []
  }
 ]
}