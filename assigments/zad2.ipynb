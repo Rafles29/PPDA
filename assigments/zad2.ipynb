{
 "nbformat": 4,
 "nbformat_minor": 2,
 "metadata": {
  "language_info": {
   "name": "python",
   "codemirror_mode": {
    "name": "ipython",
    "version": 3
   },
   "version": "3.7.6-final"
  },
  "orig_nbformat": 2,
  "file_extension": ".py",
  "mimetype": "text/x-python",
  "name": "python",
  "npconvert_exporter": "python",
  "pygments_lexer": "ipython3",
  "version": 3,
  "kernelspec": {
   "name": "python37664bit5cb71ae6c9284e74898cd00430f38632",
   "display_name": "Python 3.7.6 64-bit"
  }
 },
 "cells": [
  {
   "cell_type": "code",
   "execution_count": 86,
   "metadata": {},
   "outputs": [
    {
     "output_type": "execute_result",
     "data": {
      "text/plain": "[1, 2, 3, 5, 7, 9, 11]"
     },
     "metadata": {},
     "execution_count": 86
    }
   ],
   "source": [
    "def myprimef():\n",
    "  prime_numbers = (1,2,3,5,7,9,11)\n",
    "  for i in prime_numbers:\n",
    "      yield i\n",
    "list(myprimef())"
   ]
  },
  {
   "cell_type": "code",
   "execution_count": 87,
   "metadata": {},
   "outputs": [
    {
     "output_type": "execute_result",
     "data": {
      "text/plain": "[1, 2, 3, 5, 7, 9, 11]"
     },
     "metadata": {},
     "execution_count": 87
    }
   ],
   "source": [
    "class MyPrimeC(object):\n",
    "    def __init__(self):\n",
    "        self._primeNumbers = (1,2,3,5,7,9,11)\n",
    "        self._i = 0\n",
    "    def __iter__(self):\n",
    "        return self\n",
    "    def __next__(self):\n",
    "        return self._nextval()\n",
    "    def _nextval(self):\n",
    "        if self._i < len(self._primeNumbers):\n",
    "            val = self._primeNumbers[self._i]\n",
    "            self._i += 1\n",
    "            return val\n",
    "        else:\n",
    "            raise StopIteration()\n",
    "list(MyPrimeC())"
   ]
  },
  {
   "cell_type": "code",
   "execution_count": 88,
   "metadata": {},
   "outputs": [
    {
     "output_type": "execute_result",
     "data": {
      "text/plain": "[1, 2, 3, 5, 7, 9, 11]"
     },
     "metadata": {},
     "execution_count": 88
    }
   ],
   "source": [
    "primeg = ( x for x in (1,2,3,5,7,9,11) )\n",
    "list(primeg)"
   ]
  },
  {
   "cell_type": "code",
   "execution_count": 89,
   "metadata": {},
   "outputs": [],
   "source": [
    "class Line(object):\n",
    "    \n",
    "    def __init__(self,coor1,coor2):\n",
    "        \"\"\"Initialize instance attributes with tuples (x1,y1)  and (x2,y2)\n",
    "        \"\"\"\n",
    "        self._coor1 = coor1\n",
    "        self._coor2 = coor2\n",
    "    \n",
    "    def distance(self):\n",
    "        \"\"\"Calculate the length of the segment (line)\n",
    "        \"\"\"\n",
    "        return ( (self._coor2[0] - self._coor1[0]) ** 2 + (self._coor2[1] - self._coor1[1]) ** 2 ) ** 0.5\n",
    "    \n",
    "    def slope(self):\n",
    "        \"\"\" Return the slope of a line going through the ends ( the 'a' in y=ax+b)\n",
    "        \"\"\"\n",
    "        return (self._coor2[1] - self._coor1[1]) / (self._coor2[0] - self._coor1[0])"
   ]
  },
  {
   "cell_type": "code",
   "execution_count": 90,
   "metadata": {},
   "outputs": [],
   "source": [
    "coordinate1 = (3,2)\n",
    "coordinate2 = (8,10)\n",
    "\n",
    "li = Line(coordinate1,coordinate2)"
   ]
  },
  {
   "cell_type": "code",
   "execution_count": 91,
   "metadata": {},
   "outputs": [
    {
     "output_type": "execute_result",
     "data": {
      "text/plain": "9.433981132056603"
     },
     "metadata": {},
     "execution_count": 91
    }
   ],
   "source": [
    "li.distance()"
   ]
  },
  {
   "cell_type": "code",
   "execution_count": 92,
   "metadata": {},
   "outputs": [
    {
     "output_type": "execute_result",
     "data": {
      "text/plain": "1.6"
     },
     "metadata": {},
     "execution_count": 92
    }
   ],
   "source": [
    "li.slope()"
   ]
  },
  {
   "cell_type": "code",
   "execution_count": 93,
   "metadata": {},
   "outputs": [],
   "source": [
    "from math import pi\n",
    "class Cylinder(object):\n",
    "    \n",
    "    def __init__(self,height=1,radius=1):\n",
    "        self._height = height\n",
    "        self._radius = radius\n",
    "        \n",
    "    def volume(self):\n",
    "        return pi * self._radius ** 2 * self._height\n",
    "    \n",
    "    def surface_area(self):\n",
    "        return pi * self._radius * 2 * self._height + 2 * pi * self._radius ** 2"
   ]
  },
  {
   "cell_type": "code",
   "execution_count": 94,
   "metadata": {},
   "outputs": [],
   "source": [
    "c = Cylinder(2,3)"
   ]
  },
  {
   "cell_type": "code",
   "execution_count": 95,
   "metadata": {},
   "outputs": [
    {
     "output_type": "execute_result",
     "data": {
      "text/plain": "56.548667764616276"
     },
     "metadata": {},
     "execution_count": 95
    }
   ],
   "source": [
    "c.volume()"
   ]
  },
  {
   "cell_type": "code",
   "execution_count": 96,
   "metadata": {},
   "outputs": [
    {
     "output_type": "execute_result",
     "data": {
      "text/plain": "94.24777960769379"
     },
     "metadata": {},
     "execution_count": 96
    }
   ],
   "source": [
    "c.surface_area()"
   ]
  },
  {
   "cell_type": "code",
   "execution_count": 97,
   "metadata": {},
   "outputs": [
    {
     "output_type": "stream",
     "name": "stdout",
     "text": "‘       119.67       ’\n"
    }
   ],
   "source": [
    "print(f\"‘{(123+98+138)/3:^20.2f}’\")"
   ]
  },
  {
   "cell_type": "code",
   "execution_count": 236,
   "metadata": {},
   "outputs": [],
   "source": [
    "class DataFile(object):\n",
    "\n",
    "    def __init__(self, filename='undef'):\n",
    "        self._columns = []\n",
    "        self._header = []\n",
    "        with open(filename) as f:\n",
    "            for line in f:\n",
    "                if len(self._header) == 0:\n",
    "                    self._header = list(line.rstrip().split(';'))\n",
    "                    self._columns =  [[] for _ in range(len(self._header))]\n",
    "                else:\n",
    "                    for idx, val in enumerate(line.split(';')):\n",
    "                        try:\n",
    "                            value = int(val)\n",
    "                            self._columns[idx].append(value)\n",
    "                        except:\n",
    "                            self._columns[idx].append(val)\n",
    "        print(self._header)\n",
    "        print(self._columns)\n",
    "                \n",
    "  \n",
    "    def info(self):\n",
    "        header = ('Parameters','Min', 'Max', 'Avg', 'Distinct')\n",
    "        mins = [self.min(i) for i in range(len(self._columns))]\n",
    "        maxes = [self.max(i) for i in range(len(self._columns))]\n",
    "        avgs = [self.avg(i) for i in range(len(self._columns))]\n",
    "        dis = [self.distinct(i) for i in range(len(self._columns))]\n",
    "        data = [header] + list(zip(self._header, mins, maxes, avgs, dis))\n",
    "\n",
    "        for i, d in enumerate(data):\n",
    "            line = ''\n",
    "            for x in d:\n",
    "                if isinstance(x, (int, float)):\n",
    "                    line += f'{x:.2f}'.ljust(20)\n",
    "                else:\n",
    "                    line += str(x).ljust(20)\n",
    "            print(line)\n",
    "            if i == 0:\n",
    "                print('-' * len(line))\n",
    "    \n",
    "    def avg(self, colnum=0, colname=''):\n",
    "        \"\"\" The column name or colnum can be provided alternatively\n",
    "        \"\"\"\n",
    "        if isinstance(self._columns[colnum][0], int):\n",
    "            return sum(self._columns[colnum])/len(self._columns[colnum])\n",
    "    \n",
    "    def min(self, colnum=0, colname=''):\n",
    "        if isinstance(self._columns[colnum][0], int):\n",
    "            return min(self._columns[colnum])\n",
    "      \n",
    "    def max(self, colnum=0, colname=''):\n",
    "        if isinstance(self._columns[colnum][0], int):\n",
    "            return max(self._columns[colnum])\n",
    "\n",
    "    def distinct(self, colnum=0, colname=''):\n",
    "        return len(set(self._columns[colnum]))"
   ]
  },
  {
   "cell_type": "code",
   "execution_count": 237,
   "metadata": {},
   "outputs": [
    {
     "output_type": "stream",
     "name": "stdout",
     "text": "['Name', 'Age', 'Weight', 'Height']\n[['John', 'Mary', 'Jack'], [6, 4, 8], [25, 18, 32], [123, 98, 138]]\n"
    }
   ],
   "source": [
    "file = DataFile(\"zad2Data.txt\")"
   ]
  },
  {
   "cell_type": "code",
   "execution_count": 238,
   "metadata": {},
   "outputs": [
    {
     "output_type": "stream",
     "name": "stdout",
     "text": "25.0\n32\n18\n3\n"
    }
   ],
   "source": [
    "print(file.avg(2))\n",
    "print(file.max(2))\n",
    "print(file.min(2))\n",
    "print(file.distinct(2))"
   ]
  },
  {
   "cell_type": "code",
   "execution_count": 239,
   "metadata": {},
   "outputs": [
    {
     "output_type": "stream",
     "name": "stdout",
     "text": "Parameters          Min                 Max                 Avg                 Distinct            \n----------------------------------------------------------------------------------------------------\nName                None                None                None                3.00                \nAge                 4.00                8.00                6.00                3.00                \nWeight              18.00               32.00               25.00               3.00                \nHeight              98.00               138.00              119.67              3.00                \n"
    }
   ],
   "source": [
    "file.info()"
   ]
  },
  {
   "cell_type": "code",
   "execution_count": 164,
   "metadata": {},
   "outputs": [
    {
     "output_type": "execute_result",
     "data": {
      "text/plain": "[[], [], [], [], [], [], [], [], [], []]"
     },
     "metadata": {},
     "execution_count": 164
    }
   ],
   "source": [
    " [[] for _ in range(10)]"
   ]
  },
  {
   "cell_type": "code",
   "execution_count": 9,
   "metadata": {},
   "outputs": [
    {
     "output_type": "stream",
     "name": "stdout",
     "text": "Help on built-in function min in module builtins:\n\nmin(...)\n    min(iterable, *[, default=obj, key=func]) -> value\n    min(arg1, arg2, *args, *[, key=func]) -> value\n    \n    With a single iterable argument, return its smallest item. The\n    default keyword-only argument specifies an object to return if\n    the provided iterable is empty.\n    With two or more arguments, return the smallest argument.\n\n"
    }
   ],
   "source": [
    "help(min)"
   ]
  },
  {
   "cell_type": "code",
   "execution_count": 43,
   "metadata": {},
   "outputs": [
    {
     "output_type": "execute_result",
     "data": {
      "text/plain": "True"
     },
     "metadata": {},
     "execution_count": 43
    }
   ],
   "source": [
    "isinstance(1, int)"
   ]
  },
  {
   "cell_type": "code",
   "execution_count": null,
   "metadata": {},
   "outputs": [],
   "source": []
  }
 ]
}