{
 "nbformat": 4,
 "nbformat_minor": 2,
 "metadata": {
  "language_info": {
   "name": "python",
   "codemirror_mode": {
    "name": "ipython",
    "version": 3
   },
   "version": "3.7.6-final"
  },
  "orig_nbformat": 2,
  "file_extension": ".py",
  "mimetype": "text/x-python",
  "name": "python",
  "npconvert_exporter": "python",
  "pygments_lexer": "ipython3",
  "version": 3,
  "kernelspec": {
   "name": "python37664bit5cb71ae6c9284e74898cd00430f38632",
   "display_name": "Python 3.7.6 64-bit"
  }
 },
 "cells": [
  {
   "cell_type": "markdown",
   "metadata": {},
   "source": [
    "Python has for and while loop"
   ]
  },
  {
   "cell_type": "code",
   "execution_count": 1,
   "metadata": {},
   "outputs": [
    {
     "output_type": "stream",
     "name": "stdout",
     "text": "0\n1\n2\n3\n"
    }
   ],
   "source": [
    "for i in range(4):\n",
    "    print(i)"
   ]
  },
  {
   "cell_type": "code",
   "execution_count": 3,
   "metadata": {},
   "outputs": [
    {
     "output_type": "stream",
     "name": "stdout",
     "text": "1\n2\n"
    }
   ],
   "source": [
    "a = 3\n",
    "t = (1,2,3)\n",
    "i = 0\n",
    "while a != t[i]:\n",
    "    print(t[i])\n",
    "    i = i+1\n",
    ""
   ]
  },
  {
   "cell_type": "code",
   "execution_count": 7,
   "metadata": {},
   "outputs": [],
   "source": [
    "v = [1,5,7,8]\n",
    "m = map(lambda x: x+1, v)"
   ]
  },
  {
   "cell_type": "code",
   "execution_count": 17,
   "metadata": {},
   "outputs": [
    {
     "name": "stdout",
     "output_type": "stream",
     "text": "how we can format 2\nhow we can format 6\nhow we can format 8\nhow we can format 9\n"
    }
   ],
   "source": [
    "for i in m:\n",
    "    print(f\"how we can format {i}\")"
   ]
  },
  {
   "cell_type": "markdown",
   "metadata": {},
   "source": [
    "If you start [17] multiple times in only print once"
   ]
  },
  {
   "cell_type": "code",
   "execution_count": 30,
   "metadata": {},
   "outputs": [],
   "source": [
    "def myexpr(x):\n",
    "    return x+1\n",
    "\n",
    "m = map(myexpr, v)"
   ]
  },
  {
   "cell_type": "code",
   "execution_count": 31,
   "metadata": {},
   "outputs": [
    {
     "name": "stdout",
     "output_type": "stream",
     "text": "2\n6\n8\n9\n"
    }
   ],
   "source": [
    "for i in m:\n",
    "    print(i)"
   ]
  },
  {
   "cell_type": "code",
   "execution_count": 32,
   "metadata": {},
   "outputs": [
    {
     "data": {
      "text/plain": "['my number is 1', 'my number is 5', 'my number is 7', 'my number is 8']"
     },
     "execution_count": 32,
     "metadata": {},
     "output_type": "execute_result"
    }
   ],
   "source": [
    "y = list(map(lambda  i: f\"my number is {i}\", v))\n",
    "y"
   ]
  },
  {
   "cell_type": "code",
   "execution_count": 36,
   "metadata": {},
   "outputs": [
    {
     "data": {
      "text/plain": "['1', '2', '3', '4', '5', '6']"
     },
     "execution_count": 36,
     "metadata": {},
     "output_type": "execute_result"
    }
   ],
   "source": [
    "s = \"1 2 3 4 5 6\"\n",
    "ss = s.split()\n",
    "ss"
   ]
  },
  {
   "cell_type": "code",
   "execution_count": 37,
   "metadata": {},
   "outputs": [
    {
     "data": {
      "text/plain": "[1, 2, 3, 4, 5, 6]"
     },
     "execution_count": 37,
     "metadata": {},
     "output_type": "execute_result"
    }
   ],
   "source": [
    "v = list(map(int, ss))"
   ]
  },
  {
   "cell_type": "code",
   "execution_count": 42,
   "metadata": {},
   "outputs": [
    {
     "data": {
      "text/plain": "[1, 5, 7]"
     },
     "execution_count": 42,
     "metadata": {},
     "output_type": "execute_result"
    }
   ],
   "source": [
    "list(filter(lambda x: x %2, v))"
   ]
  },
  {
   "cell_type": "code",
   "execution_count": 43,
   "metadata": {},
   "outputs": [
    {
     "data": {
      "text/plain": "['__add__',\n '__class__',\n '__contains__',\n '__delattr__',\n '__delitem__',\n '__dir__',\n '__doc__',\n '__eq__',\n '__format__',\n '__ge__',\n '__getattribute__',\n '__getitem__',\n '__gt__',\n '__hash__',\n '__iadd__',\n '__imul__',\n '__init__',\n '__init_subclass__',\n '__iter__',\n '__le__',\n '__len__',\n '__lt__',\n '__mul__',\n '__ne__',\n '__new__',\n '__reduce__',\n '__reduce_ex__',\n '__repr__',\n '__reversed__',\n '__rmul__',\n '__setattr__',\n '__setitem__',\n '__sizeof__',\n '__str__',\n '__subclasshook__',\n 'append',\n 'clear',\n 'copy',\n 'count',\n 'extend',\n 'index',\n 'insert',\n 'pop',\n 'remove',\n 'reverse',\n 'sort']"
     },
     "execution_count": 43,
     "metadata": {},
     "output_type": "execute_result"
    }
   ],
   "source": [
    "dir(v)"
   ]
  },
  {
   "cell_type": "code",
   "execution_count": 49,
   "metadata": {},
   "outputs": [],
   "source": [
    "import math\n",
    "\n",
    "def stupid(n):\n",
    "    s = 0\n",
    "    for i in range(n):\n",
    "        s += i + math.sin(i)\n",
    "    return s"
   ]
  },
  {
   "cell_type": "code",
   "execution_count": 50,
   "metadata": {},
   "outputs": [
    {
     "name": "stdout",
     "output_type": "stream",
     "text": "1.71 µs ± 16 ns per loop (mean ± std. dev. of 7 runs, 1000000 loops each)\n"
    }
   ],
   "source": [
    "%timeit stupid(10)"
   ]
  },
  {
   "cell_type": "code",
   "execution_count": 51,
   "metadata": {},
   "outputs": [
    {
     "name": "stdout",
     "output_type": "stream",
     "text": "147 µs ± 1.03 µs per loop (mean ± std. dev. of 7 runs, 10000 loops each)\n"
    }
   ],
   "source": [
    "%timeit stupid(1000)"
   ]
  },
  {
   "cell_type": "code",
   "execution_count": 53,
   "metadata": {},
   "outputs": [],
   "source": [
    "%magic"
   ]
  },
  {
   "cell_type": "markdown",
   "metadata": {},
   "source": [
    "Tuple is immutable data type and it is twice as fast as normal table\n",
    "(1, 2, 3)"
   ]
  },
  {
   "cell_type": "code",
   "execution_count": 54,
   "metadata": {},
   "outputs": [
    {
     "data": {
      "text/plain": "(5, 6, 7)"
     },
     "execution_count": 54,
     "metadata": {},
     "output_type": "execute_result"
    }
   ],
   "source": [
    "def multiple_return(n):\n",
    "    return (n, n+1, n+2)\n",
    "multiple_return(5)"
   ]
  },
  {
   "cell_type": "markdown",
   "metadata": {},
   "source": [
    "Set creates collection with only unique items"
   ]
  },
  {
   "cell_type": "code",
   "execution_count": 55,
   "metadata": {},
   "outputs": [
    {
     "data": {
      "text/plain": "{0, 1, 2, 3}"
     },
     "execution_count": 55,
     "metadata": {},
     "output_type": "execute_result"
    }
   ],
   "source": [
    "my_set = set([0, 0, 1, 2, 3, 3])\n",
    "my_set"
   ]
  },
  {
   "cell_type": "code",
   "execution_count": 56,
   "metadata": {},
   "outputs": [
    {
     "data": {
      "text/plain": "[(0, 'Ala'), (1, 'ma'), (2, 'kota')]"
     },
     "execution_count": 56,
     "metadata": {},
     "output_type": "execute_result"
    }
   ],
   "source": [
    "s = \"Ala ma kota\".split()\n",
    "list(enumerate(s))"
   ]
  },
  {
   "cell_type": "code",
   "execution_count": 60,
   "metadata": {},
   "outputs": [
    {
     "data": {
      "text/plain": "[2, 3, 2, 3, 2, 3, 2, 3, 2, 3, 2, 3, 2, 3, 2, 3, 2, 3, 2, 3]"
     },
     "execution_count": 60,
     "metadata": {},
     "output_type": "execute_result"
    }
   ],
   "source": [
    "lst = [2, 3] * 10\n",
    "lst"
   ]
  },
  {
   "cell_type": "markdown",
   "metadata": {},
   "source": [
    "List comprehension"
   ]
  },
  {
   "cell_type": "code",
   "execution_count": 8,
   "metadata": {},
   "outputs": [
    {
     "output_type": "execute_result",
     "data": {
      "text/plain": "[2, 2, 2, 2, 2, 2, 2, 2, 2, 2]"
     },
     "metadata": {},
     "execution_count": 8
    }
   ],
   "source": [
    "lst = [ 2 for _ in range(10)]\n",
    "lst"
   ]
  },
  {
   "cell_type": "code",
   "execution_count": 63,
   "metadata": {},
   "outputs": [
    {
     "name": "stdout",
     "output_type": "stream",
     "text": "(0, 0)\n(1, 1)\n(2, 2)\n(3, 3)\n(4, 4)\n(5, 5)\n(6, 6)\n(7, 7)\n(8, 8)\n(9, 9)\n"
    },
    {
     "data": {
      "text/plain": "[None, None, None, None, None, None, None, None, None, None]"
     },
     "execution_count": 63,
     "metadata": {},
     "output_type": "execute_result"
    }
   ],
   "source": [
    "lst = [ print(t) for t in enumerate(range(10))]\n",
    "lst"
   ]
  },
  {
   "cell_type": "code",
   "execution_count": 66,
   "metadata": {},
   "outputs": [
    {
     "data": {
      "text/plain": "[0.0,\n 0.03141075907812829,\n 0.06279051952931337,\n 0.09410831331851431,\n 0.12533323356430426,\n 0.15643446504023087,\n 0.1873813145857246,\n 0.21814324139654254,\n 0.2486898871648548,\n 0.2789911060392293,\n 0.3090169943749474,\n 0.33873792024529137,\n 0.3681245526846779,\n 0.3971478906347806,\n 0.42577929156507266,\n 0.45399049973954675,\n 0.4817536741017153,\n 0.5090414157503713,\n 0.5358267949789967,\n 0.5620833778521306,\n 0.5877852522924731,\n 0.6129070536529765,\n 0.6374239897486896,\n 0.6613118653236518,\n 0.6845471059286886,\n 0.7071067811865475,\n 0.7289686274214116,\n 0.7501110696304595,\n 0.7705132427757891,\n 0.7901550123756904,\n 0.8090169943749473,\n 0.8270805742745617,\n 0.8443279255020151,\n 0.8607420270039436,\n 0.8763066800438637,\n 0.8910065241883678,\n 0.9048270524660196,\n 0.9177546256839811,\n 0.9297764858882513,\n 0.9408807689542255,\n 0.9510565162951535,\n 0.9602936856769431,\n 0.9685831611286311,\n 0.9759167619387473,\n 0.9822872507286886,\n 0.9876883405951378,\n 0.9921147013144778,\n 0.99556196460308,\n 0.9980267284282716,\n 0.9995065603657316,\n 1.0,\n 0.9995065603657316,\n 0.9980267284282716,\n 0.99556196460308,\n 0.9921147013144779,\n 0.9876883405951378,\n 0.9822872507286887,\n 0.9759167619387474,\n 0.9685831611286311,\n 0.9602936856769431,\n 0.9510565162951536,\n 0.9408807689542255,\n 0.9297764858882515,\n 0.9177546256839811,\n 0.9048270524660195,\n 0.8910065241883679,\n 0.8763066800438635,\n 0.8607420270039436,\n 0.844327925502015,\n 0.8270805742745618,\n 0.8090169943749475,\n 0.7901550123756903,\n 0.7705132427757893,\n 0.7501110696304597,\n 0.7289686274214116,\n 0.7071067811865476,\n 0.6845471059286888,\n 0.6613118653236518,\n 0.6374239897486899,\n 0.6129070536529764,\n 0.5877852522924732,\n 0.5620833778521308,\n 0.535826794978997,\n 0.5090414157503711,\n 0.4817536741017152,\n 0.45399049973954686,\n 0.4257792915650729,\n 0.397147890634781,\n 0.36812455268467814,\n 0.3387379202452913,\n 0.3090169943749475,\n 0.2789911060392295,\n 0.24868988716485524,\n 0.21814324139654273,\n 0.18738131458572455,\n 0.15643446504023098,\n 0.12533323356430454,\n 0.09410831331851435,\n 0.06279051952931358,\n 0.03141075907812824]"
     },
     "execution_count": 66,
     "metadata": {},
     "output_type": "execute_result"
    }
   ],
   "source": [
    "y = [math.sin(x * math.pi/100) for x in range(0, 100)]\n",
    "y"
   ]
  },
  {
   "cell_type": "code",
   "execution_count": 6,
   "metadata": {},
   "outputs": [],
   "source": [
    "from math import sin, pi"
   ]
  },
  {
   "cell_type": "code",
   "execution_count": 7,
   "metadata": {},
   "outputs": [
    {
     "data": {
      "text/plain": "[0.0,\n 0.03141075907812829,\n 0.06279051952931337,\n 0.09410831331851431,\n 0.12533323356430426,\n 0.15643446504023087,\n 0.1873813145857246,\n 0.21814324139654254,\n 0.2486898871648548,\n 0.2789911060392293,\n 0.3090169943749474,\n 0.33873792024529137,\n 0.3681245526846779,\n 0.3971478906347806,\n 0.42577929156507266,\n 0.45399049973954675,\n 0.4817536741017153,\n 0.5090414157503713,\n 0.5358267949789967,\n 0.5620833778521306,\n 0.5877852522924731,\n 0.6129070536529765,\n 0.6374239897486896,\n 0.6613118653236518,\n 0.6845471059286886,\n 0.7071067811865475,\n 0.7289686274214116,\n 0.7501110696304595,\n 0.7705132427757891,\n 0.7901550123756904,\n 0.8090169943749473,\n 0.8270805742745617,\n 0.8443279255020151,\n 0.8607420270039436,\n 0.8763066800438637,\n 0.8910065241883678,\n 0.9048270524660196,\n 0.9177546256839811,\n 0.9297764858882513,\n 0.9408807689542255,\n 0.9510565162951535,\n 0.9602936856769431,\n 0.9685831611286311,\n 0.9759167619387473,\n 0.9822872507286886,\n 0.9876883405951378,\n 0.9921147013144778,\n 0.99556196460308,\n 0.9980267284282716,\n 0.9995065603657316,\n 1.0,\n 0.9995065603657316,\n 0.9980267284282716,\n 0.99556196460308,\n 0.9921147013144779,\n 0.9876883405951378,\n 0.9822872507286887,\n 0.9759167619387474,\n 0.9685831611286311,\n 0.9602936856769431,\n 0.9510565162951536,\n 0.9408807689542255,\n 0.9297764858882515,\n 0.9177546256839811,\n 0.9048270524660195,\n 0.8910065241883679,\n 0.8763066800438635,\n 0.8607420270039436,\n 0.844327925502015,\n 0.8270805742745618,\n 0.8090169943749475,\n 0.7901550123756903,\n 0.7705132427757893,\n 0.7501110696304597,\n 0.7289686274214116,\n 0.7071067811865476,\n 0.6845471059286888,\n 0.6613118653236518,\n 0.6374239897486899,\n 0.6129070536529764,\n 0.5877852522924732,\n 0.5620833778521308,\n 0.535826794978997,\n 0.5090414157503711,\n 0.4817536741017152,\n 0.45399049973954686,\n 0.4257792915650729,\n 0.397147890634781,\n 0.36812455268467814,\n 0.3387379202452913,\n 0.3090169943749475,\n 0.2789911060392295,\n 0.24868988716485524,\n 0.21814324139654273,\n 0.18738131458572455,\n 0.15643446504023098,\n 0.12533323356430454,\n 0.09410831331851435,\n 0.06279051952931358,\n 0.03141075907812824]"
     },
     "execution_count": 7,
     "metadata": {},
     "output_type": "execute_result"
    }
   ],
   "source": [
    "y = [sin(x * pi/100) for x in range(0, 100)]\n",
    "y"
   ]
  },
  {
   "cell_type": "code",
   "execution_count": 8,
   "metadata": {},
   "outputs": [],
   "source": [
    "import matplotlib.pyplot as plt"
   ]
  },
  {
   "cell_type": "code",
   "execution_count": 9,
   "metadata": {},
   "outputs": [
    {
     "data": {
      "text/plain": "[<matplotlib.lines.Line2D at 0x1289d5e90>]"
     },
     "execution_count": 9,
     "metadata": {},
     "output_type": "execute_result"
    },
    {
     "data": {
      "image/png": "[encoded data removed]",
      "image/svg+xml": "<?xml version=\"1.0\" encoding=\"utf-8\" standalone=\"no\"?>\n<!DOCTYPE svg PUBLIC \"-//W3C//DTD SVG 1.1//EN\"\n  \"http://www.w3.org/Graphics/SVG/1.1/DTD/svg11.dtd\">\n<!-- Created with matplotlib (https://matplotlib.org/) -->\n<svg height=\"248.518125pt\" version=\"1.1\" viewBox=\"0 0 372.103125 248.518125\" width=\"372.103125pt\" xmlns=\"http://www.w3.org/2000/svg\" xmlns:xlink=\"http://www.w3.org/1999/xlink\">\n <defs>\n  <style type=\"text/css\">\n*{stroke-linecap:butt;stroke-linejoin:round;}\n  </style>\n </defs>\n <g id=\"figure_1\">\n  <g id=\"patch_1\">\n   <path d=\"M 0 248.518125 \nL 372.103125 248.518125 \nL 372.103125 0 \nL 0 0 \nz\n\" style=\"fill:none;\"/>\n  </g>\n  <g id=\"axes_1\">\n   <g id=\"patch_2\">\n    <path d=\"M 30.103125 224.64 \nL 364.903125 224.64 \nL 364.903125 7.2 \nL 30.103125 7.2 \nz\n\" style=\"fill:#ffffff;\"/>\n   </g>\n   <g id=\"matplotlib.axis_1\">\n    <g id=\"xtick_1\">\n     <g id=\"line2d_1\">\n      <defs>\n       <path d=\"M 0 0 \nL 0 3.5 \n\" id=\"mcb1df8168f\" style=\"stroke:#000000;stroke-width:0.8;\"/>\n      </defs>\n      <g>\n       <use style=\"stroke:#000000;stroke-width:0.8;\" x=\"45.321307\" xlink:href=\"#mcb1df8168f\" y=\"224.64\"/>\n      </g>\n     </g>\n     <g id=\"text_1\">\n      <!-- 0 -->\n      <defs>\n       <path d=\"M 31.78125 66.40625 \nQ 24.171875 66.40625 20.328125 58.90625 \nQ 16.5 51.421875 16.5 36.375 \nQ 16.5 21.390625 20.328125 13.890625 \nQ 24.171875 6.390625 31.78125 6.390625 \nQ 39.453125 6.390625 43.28125 13.890625 \nQ 47.125 21.390625 47.125 36.375 \nQ 47.125 51.421875 43.28125 58.90625 \nQ 39.453125 66.40625 31.78125 66.40625 \nz\nM 31.78125 74.21875 \nQ 44.046875 74.21875 50.515625 64.515625 \nQ 56.984375 54.828125 56.984375 36.375 \nQ 56.984375 17.96875 50.515625 8.265625 \nQ 44.046875 -1.421875 31.78125 -1.421875 \nQ 19.53125 -1.421875 13.0625 8.265625 \nQ 6.59375 17.96875 6.59375 36.375 \nQ 6.59375 54.828125 13.0625 64.515625 \nQ 19.53125 74.21875 31.78125 74.21875 \nz\n\" id=\"DejaVuSans-48\"/>\n      </defs>\n      <g transform=\"translate(42.140057 239.238437)scale(0.1 -0.1)\">\n       <use xlink:href=\"#DejaVuSans-48\"/>\n      </g>\n     </g>\n    </g>\n    <g id=\"xtick_2\">\n     <g id=\"line2d_2\">\n      <g>\n       <use style=\"stroke:#000000;stroke-width:0.8;\" x=\"106.80891\" xlink:href=\"#mcb1df8168f\" y=\"224.64\"/>\n      </g>\n     </g>\n     <g id=\"text_2\">\n      <!-- 20 -->\n      <defs>\n       <path d=\"M 19.1875 8.296875 \nL 53.609375 8.296875 \nL 53.609375 0 \nL 7.328125 0 \nL 7.328125 8.296875 \nQ 12.9375 14.109375 22.625 23.890625 \nQ 32.328125 33.6875 34.8125 36.53125 \nQ 39.546875 41.84375 41.421875 45.53125 \nQ 43.3125 49.21875 43.3125 52.78125 \nQ 43.3125 58.59375 39.234375 62.25 \nQ 35.15625 65.921875 28.609375 65.921875 \nQ 23.96875 65.921875 18.8125 64.3125 \nQ 13.671875 62.703125 7.8125 59.421875 \nL 7.8125 69.390625 \nQ 13.765625 71.78125 18.9375 73 \nQ 24.125 74.21875 28.421875 74.21875 \nQ 39.75 74.21875 46.484375 68.546875 \nQ 53.21875 62.890625 53.21875 53.421875 \nQ 53.21875 48.921875 51.53125 44.890625 \nQ 49.859375 40.875 45.40625 35.40625 \nQ 44.1875 33.984375 37.640625 27.21875 \nQ 31.109375 20.453125 19.1875 8.296875 \nz\n\" id=\"DejaVuSans-50\"/>\n      </defs>\n      <g transform=\"translate(100.44641 239.238437)scale(0.1 -0.1)\">\n       <use xlink:href=\"#DejaVuSans-50\"/>\n       <use x=\"63.623047\" xlink:href=\"#DejaVuSans-48\"/>\n      </g>\n     </g>\n    </g>\n    <g id=\"xtick_3\">\n     <g id=\"line2d_3\">\n      <g>\n       <use style=\"stroke:#000000;stroke-width:0.8;\" x=\"168.296513\" xlink:href=\"#mcb1df8168f\" y=\"224.64\"/>\n      </g>\n     </g>\n     <g id=\"text_3\">\n      <!-- 40 -->\n      <defs>\n       <path d=\"M 37.796875 64.3125 \nL 12.890625 25.390625 \nL 37.796875 25.390625 \nz\nM 35.203125 72.90625 \nL 47.609375 72.90625 \nL 47.609375 25.390625 \nL 58.015625 25.390625 \nL 58.015625 17.1875 \nL 47.609375 17.1875 \nL 47.609375 0 \nL 37.796875 0 \nL 37.796875 17.1875 \nL 4.890625 17.1875 \nL 4.890625 26.703125 \nz\n\" id=\"DejaVuSans-52\"/>\n      </defs>\n      <g transform=\"translate(161.934013 239.238437)scale(0.1 -0.1)\">\n       <use xlink:href=\"#DejaVuSans-52\"/>\n       <use x=\"63.623047\" xlink:href=\"#DejaVuSans-48\"/>\n      </g>\n     </g>\n    </g>\n    <g id=\"xtick_4\">\n     <g id=\"line2d_4\">\n      <g>\n       <use style=\"stroke:#000000;stroke-width:0.8;\" x=\"229.784117\" xlink:href=\"#mcb1df8168f\" y=\"224.64\"/>\n      </g>\n     </g>\n     <g id=\"text_4\">\n      <!-- 60 -->\n      <defs>\n       <path d=\"M 33.015625 40.375 \nQ 26.375 40.375 22.484375 35.828125 \nQ 18.609375 31.296875 18.609375 23.390625 \nQ 18.609375 15.53125 22.484375 10.953125 \nQ 26.375 6.390625 33.015625 6.390625 \nQ 39.65625 6.390625 43.53125 10.953125 \nQ 47.40625 15.53125 47.40625 23.390625 \nQ 47.40625 31.296875 43.53125 35.828125 \nQ 39.65625 40.375 33.015625 40.375 \nz\nM 52.59375 71.296875 \nL 52.59375 62.3125 \nQ 48.875 64.0625 45.09375 64.984375 \nQ 41.3125 65.921875 37.59375 65.921875 \nQ 27.828125 65.921875 22.671875 59.328125 \nQ 17.53125 52.734375 16.796875 39.40625 \nQ 19.671875 43.65625 24.015625 45.921875 \nQ 28.375 48.1875 33.59375 48.1875 \nQ 44.578125 48.1875 50.953125 41.515625 \nQ 57.328125 34.859375 57.328125 23.390625 \nQ 57.328125 12.15625 50.6875 5.359375 \nQ 44.046875 -1.421875 33.015625 -1.421875 \nQ 20.359375 -1.421875 13.671875 8.265625 \nQ 6.984375 17.96875 6.984375 36.375 \nQ 6.984375 53.65625 15.1875 63.9375 \nQ 23.390625 74.21875 37.203125 74.21875 \nQ 40.921875 74.21875 44.703125 73.484375 \nQ 48.484375 72.75 52.59375 71.296875 \nz\n\" id=\"DejaVuSans-54\"/>\n      </defs>\n      <g transform=\"translate(223.421617 239.238437)scale(0.1 -0.1)\">\n       <use xlink:href=\"#DejaVuSans-54\"/>\n       <use x=\"63.623047\" xlink:href=\"#DejaVuSans-48\"/>\n      </g>\n     </g>\n    </g>\n    <g id=\"xtick_5\">\n     <g id=\"line2d_5\">\n      <g>\n       <use style=\"stroke:#000000;stroke-width:0.8;\" x=\"291.27172\" xlink:href=\"#mcb1df8168f\" y=\"224.64\"/>\n      </g>\n     </g>\n     <g id=\"text_5\">\n      <!-- 80 -->\n      <defs>\n       <path d=\"M 31.78125 34.625 \nQ 24.75 34.625 20.71875 30.859375 \nQ 16.703125 27.09375 16.703125 20.515625 \nQ 16.703125 13.921875 20.71875 10.15625 \nQ 24.75 6.390625 31.78125 6.390625 \nQ 38.8125 6.390625 42.859375 10.171875 \nQ 46.921875 13.96875 46.921875 20.515625 \nQ 46.921875 27.09375 42.890625 30.859375 \nQ 38.875 34.625 31.78125 34.625 \nz\nM 21.921875 38.8125 \nQ 15.578125 40.375 12.03125 44.71875 \nQ 8.5 49.078125 8.5 55.328125 \nQ 8.5 64.0625 14.71875 69.140625 \nQ 20.953125 74.21875 31.78125 74.21875 \nQ 42.671875 74.21875 48.875 69.140625 \nQ 55.078125 64.0625 55.078125 55.328125 \nQ 55.078125 49.078125 51.53125 44.71875 \nQ 48 40.375 41.703125 38.8125 \nQ 48.828125 37.15625 52.796875 32.3125 \nQ 56.78125 27.484375 56.78125 20.515625 \nQ 56.78125 9.90625 50.3125 4.234375 \nQ 43.84375 -1.421875 31.78125 -1.421875 \nQ 19.734375 -1.421875 13.25 4.234375 \nQ 6.78125 9.90625 6.78125 20.515625 \nQ 6.78125 27.484375 10.78125 32.3125 \nQ 14.796875 37.15625 21.921875 38.8125 \nz\nM 18.3125 54.390625 \nQ 18.3125 48.734375 21.84375 45.5625 \nQ 25.390625 42.390625 31.78125 42.390625 \nQ 38.140625 42.390625 41.71875 45.5625 \nQ 45.3125 48.734375 45.3125 54.390625 \nQ 45.3125 60.0625 41.71875 63.234375 \nQ 38.140625 66.40625 31.78125 66.40625 \nQ 25.390625 66.40625 21.84375 63.234375 \nQ 18.3125 60.0625 18.3125 54.390625 \nz\n\" id=\"DejaVuSans-56\"/>\n      </defs>\n      <g transform=\"translate(284.90922 239.238437)scale(0.1 -0.1)\">\n       <use xlink:href=\"#DejaVuSans-56\"/>\n       <use x=\"63.623047\" xlink:href=\"#DejaVuSans-48\"/>\n      </g>\n     </g>\n    </g>\n    <g id=\"xtick_6\">\n     <g id=\"line2d_6\">\n      <g>\n       <use style=\"stroke:#000000;stroke-width:0.8;\" x=\"352.759323\" xlink:href=\"#mcb1df8168f\" y=\"224.64\"/>\n      </g>\n     </g>\n     <g id=\"text_6\">\n      <!-- 100 -->\n      <defs>\n       <path d=\"M 12.40625 8.296875 \nL 28.515625 8.296875 \nL 28.515625 63.921875 \nL 10.984375 60.40625 \nL 10.984375 69.390625 \nL 28.421875 72.90625 \nL 38.28125 72.90625 \nL 38.28125 8.296875 \nL 54.390625 8.296875 \nL 54.390625 0 \nL 12.40625 0 \nz\n\" id=\"DejaVuSans-49\"/>\n      </defs>\n      <g transform=\"translate(343.215573 239.238437)scale(0.1 -0.1)\">\n       <use xlink:href=\"#DejaVuSans-49\"/>\n       <use x=\"63.623047\" xlink:href=\"#DejaVuSans-48\"/>\n       <use x=\"127.246094\" xlink:href=\"#DejaVuSans-48\"/>\n      </g>\n     </g>\n    </g>\n   </g>\n   <g id=\"matplotlib.axis_2\">\n    <g id=\"ytick_1\">\n     <g id=\"line2d_7\">\n      <defs>\n       <path d=\"M 0 0 \nL -3.5 0 \n\" id=\"m25f28f35bd\" style=\"stroke:#000000;stroke-width:0.8;\"/>\n      </defs>\n      <g>\n       <use style=\"stroke:#000000;stroke-width:0.8;\" x=\"30.103125\" xlink:href=\"#m25f28f35bd\" y=\"214.756364\"/>\n      </g>\n     </g>\n     <g id=\"text_7\">\n      <!-- 0.0 -->\n      <defs>\n       <path d=\"M 10.6875 12.40625 \nL 21 12.40625 \nL 21 0 \nL 10.6875 0 \nz\n\" id=\"DejaVuSans-46\"/>\n      </defs>\n      <g transform=\"translate(7.2 218.555582)scale(0.1 -0.1)\">\n       <use xlink:href=\"#DejaVuSans-48\"/>\n       <use x=\"63.623047\" xlink:href=\"#DejaVuSans-46\"/>\n       <use x=\"95.410156\" xlink:href=\"#DejaVuSans-48\"/>\n      </g>\n     </g>\n    </g>\n    <g id=\"ytick_2\">\n     <g id=\"line2d_8\">\n      <g>\n       <use style=\"stroke:#000000;stroke-width:0.8;\" x=\"30.103125\" xlink:href=\"#m25f28f35bd\" y=\"175.221818\"/>\n      </g>\n     </g>\n     <g id=\"text_8\">\n      <!-- 0.2 -->\n      <g transform=\"translate(7.2 179.021037)scale(0.1 -0.1)\">\n       <use xlink:href=\"#DejaVuSans-48\"/>\n       <use x=\"63.623047\" xlink:href=\"#DejaVuSans-46\"/>\n       <use x=\"95.410156\" xlink:href=\"#DejaVuSans-50\"/>\n      </g>\n     </g>\n    </g>\n    <g id=\"ytick_3\">\n     <g id=\"line2d_9\">\n      <g>\n       <use style=\"stroke:#000000;stroke-width:0.8;\" x=\"30.103125\" xlink:href=\"#m25f28f35bd\" y=\"135.687273\"/>\n      </g>\n     </g>\n     <g id=\"text_9\">\n      <!-- 0.4 -->\n      <g transform=\"translate(7.2 139.486491)scale(0.1 -0.1)\">\n       <use xlink:href=\"#DejaVuSans-48\"/>\n       <use x=\"63.623047\" xlink:href=\"#DejaVuSans-46\"/>\n       <use x=\"95.410156\" xlink:href=\"#DejaVuSans-52\"/>\n      </g>\n     </g>\n    </g>\n    <g id=\"ytick_4\">\n     <g id=\"line2d_10\">\n      <g>\n       <use style=\"stroke:#000000;stroke-width:0.8;\" x=\"30.103125\" xlink:href=\"#m25f28f35bd\" y=\"96.152727\"/>\n      </g>\n     </g>\n     <g id=\"text_10\">\n      <!-- 0.6 -->\n      <g transform=\"translate(7.2 99.951946)scale(0.1 -0.1)\">\n       <use xlink:href=\"#DejaVuSans-48\"/>\n       <use x=\"63.623047\" xlink:href=\"#DejaVuSans-46\"/>\n       <use x=\"95.410156\" xlink:href=\"#DejaVuSans-54\"/>\n      </g>\n     </g>\n    </g>\n    <g id=\"ytick_5\">\n     <g id=\"line2d_11\">\n      <g>\n       <use style=\"stroke:#000000;stroke-width:0.8;\" x=\"30.103125\" xlink:href=\"#m25f28f35bd\" y=\"56.618182\"/>\n      </g>\n     </g>\n     <g id=\"text_11\">\n      <!-- 0.8 -->\n      <g transform=\"translate(7.2 60.417401)scale(0.1 -0.1)\">\n       <use xlink:href=\"#DejaVuSans-48\"/>\n       <use x=\"63.623047\" xlink:href=\"#DejaVuSans-46\"/>\n       <use x=\"95.410156\" xlink:href=\"#DejaVuSans-56\"/>\n      </g>\n     </g>\n    </g>\n    <g id=\"ytick_6\">\n     <g id=\"line2d_12\">\n      <g>\n       <use style=\"stroke:#000000;stroke-width:0.8;\" x=\"30.103125\" xlink:href=\"#m25f28f35bd\" y=\"17.083636\"/>\n      </g>\n     </g>\n     <g id=\"text_12\">\n      <!-- 1.0 -->\n      <g transform=\"translate(7.2 20.882855)scale(0.1 -0.1)\">\n       <use xlink:href=\"#DejaVuSans-49\"/>\n       <use x=\"63.623047\" xlink:href=\"#DejaVuSans-46\"/>\n       <use x=\"95.410156\" xlink:href=\"#DejaVuSans-48\"/>\n      </g>\n     </g>\n    </g>\n   </g>\n   <g id=\"line2d_13\">\n    <path clip-path=\"url(#p032e57c4c9)\" d=\"M 45.321307 214.756364 \nL 48.395687 208.547313 \nL 51.470067 202.34439 \nL 54.544447 196.153717 \nL 57.618827 189.981402 \nL 60.693208 183.833536 \nL 63.767588 177.716188 \nL 66.841968 171.635394 \nL 69.916348 165.597155 \nL 72.990728 159.607431 \nL 76.065108 153.672132 \nL 79.139489 147.797115 \nL 82.213869 141.988179 \nL 85.288249 136.251057 \nL 88.362629 130.59141 \nL 91.437009 125.014823 \nL 94.511389 119.526801 \nL 97.58577 114.132759 \nL 100.66015 108.83802 \nL 103.73453 103.647809 \nL 106.80891 98.56725 \nL 109.88329 93.601355 \nL 112.95767 88.755025 \nL 116.032051 84.033044 \nL 119.106431 79.44007 \nL 122.180811 74.980638 \nL 125.255191 70.659147 \nL 128.329571 66.479863 \nL 131.403951 62.44691 \nL 134.478332 58.564267 \nL 137.552712 54.835768 \nL 140.627092 51.265091 \nL 143.701472 47.85576 \nL 146.775852 44.61114 \nL 149.850232 41.534432 \nL 152.924613 38.628674 \nL 155.998993 35.896732 \nL 159.073373 33.341304 \nL 162.147753 30.96491 \nL 165.222133 28.769896 \nL 168.296513 26.758428 \nL 171.370894 24.932492 \nL 174.445274 23.293889 \nL 177.519654 21.844236 \nL 180.594034 20.584964 \nL 183.668414 19.517316 \nL 186.742794 18.642345 \nL 189.817175 17.960915 \nL 192.891555 17.473698 \nL 195.965935 17.181176 \nL 199.040315 17.083636 \nL 202.114695 17.181176 \nL 205.189075 17.473698 \nL 208.263456 17.960915 \nL 211.337836 18.642345 \nL 214.412216 19.517316 \nL 217.486596 20.584964 \nL 220.560976 21.844236 \nL 223.635356 23.293889 \nL 226.709737 24.932492 \nL 229.784117 26.758428 \nL 232.858497 28.769896 \nL 235.932877 30.96491 \nL 239.007257 33.341304 \nL 242.081637 35.896732 \nL 245.156018 38.628674 \nL 248.230398 41.534432 \nL 251.304778 44.61114 \nL 254.379158 47.85576 \nL 257.453538 51.265091 \nL 260.527918 54.835768 \nL 263.602299 58.564267 \nL 266.676679 62.44691 \nL 269.751059 66.479863 \nL 272.825439 70.659147 \nL 275.899819 74.980638 \nL 278.974199 79.44007 \nL 282.04858 84.033044 \nL 285.12296 88.755025 \nL 288.19734 93.601355 \nL 291.27172 98.56725 \nL 294.3461 103.647809 \nL 297.42048 108.83802 \nL 300.494861 114.132759 \nL 303.569241 119.526801 \nL 306.643621 125.014823 \nL 309.718001 130.59141 \nL 312.792381 136.251057 \nL 315.866761 141.988179 \nL 318.941142 147.797115 \nL 322.015522 153.672132 \nL 325.089902 159.607431 \nL 328.164282 165.597155 \nL 331.238662 171.635394 \nL 334.313042 177.716188 \nL 337.387423 183.833536 \nL 340.461803 189.981402 \nL 343.536183 196.153717 \nL 346.610563 202.34439 \nL 349.684943 208.547313 \n\" style=\"fill:none;stroke:#1f77b4;stroke-linecap:square;stroke-width:1.5;\"/>\n   </g>\n   <g id=\"patch_3\">\n    <path d=\"M 30.103125 224.64 \nL 30.103125 7.2 \n\" style=\"fill:none;stroke:#000000;stroke-linecap:square;stroke-linejoin:miter;stroke-width:0.8;\"/>\n   </g>\n   <g id=\"patch_4\">\n    <path d=\"M 364.903125 224.64 \nL 364.903125 7.2 \n\" style=\"fill:none;stroke:#000000;stroke-linecap:square;stroke-linejoin:miter;stroke-width:0.8;\"/>\n   </g>\n   <g id=\"patch_5\">\n    <path d=\"M 30.103125 224.64 \nL 364.903125 224.64 \n\" style=\"fill:none;stroke:#000000;stroke-linecap:square;stroke-linejoin:miter;stroke-width:0.8;\"/>\n   </g>\n   <g id=\"patch_6\">\n    <path d=\"M 30.103125 7.2 \nL 364.903125 7.2 \n\" style=\"fill:none;stroke:#000000;stroke-linecap:square;stroke-linejoin:miter;stroke-width:0.8;\"/>\n   </g>\n  </g>\n </g>\n <defs>\n  <clipPath id=\"p032e57c4c9\">\n   <rect height=\"217.44\" width=\"334.8\" x=\"30.103125\" y=\"7.2\"/>\n  </clipPath>\n </defs>\n</svg>\n",
      "text/plain": "<Figure size 432x288 with 1 Axes>"
     },
     "metadata": {
      "needs_background": "light"
     },
     "output_type": "display_data"
    }
   ],
   "source": [
    "plt.plot(y)\n"
   ]
  },
  {
   "cell_type": "code",
   "execution_count": 10,
   "metadata": {},
   "outputs": [
    {
     "data": {
      "text/plain": "<generator object <genexpr> at 0x127fc56d0>"
     },
     "execution_count": 10,
     "metadata": {},
     "output_type": "execute_result"
    }
   ],
   "source": [
    "y = (sin(x * pi/100) for x in range(0, 100))\n",
    "y"
   ]
  },
  {
   "cell_type": "markdown",
   "metadata": {},
   "source": [
    "The second y in a tuple is a generator, it means that it doesnt live in memory. It is caluclated line by line, so if you read a file with open, which is also a generator it can reaad file line by line and even if has 100GB it wont be in memory so you dont have to have 100Gb memory. You cannot get len of generator."
   ]
  },
  {
   "cell_type": "code",
   "execution_count": 13,
   "metadata": {},
   "outputs": [],
   "source": [
    "def gen_vals(n):\n",
    "    v = [0] * (n+1)\n",
    "    for i in range(n+1):\n",
    "        v[i] = 1/(i+1)\n",
    "    return v"
   ]
  },
  {
   "cell_type": "code",
   "execution_count": 14,
   "metadata": {},
   "outputs": [
    {
     "data": {
      "text/plain": "[1.0,\n 0.5,\n 0.3333333333333333,\n 0.25,\n 0.2,\n 0.16666666666666666,\n 0.14285714285714285,\n 0.125,\n 0.1111111111111111,\n 0.1,\n 0.09090909090909091,\n 0.08333333333333333,\n 0.07692307692307693,\n 0.07142857142857142,\n 0.06666666666666667,\n 0.0625,\n 0.058823529411764705,\n 0.05555555555555555,\n 0.05263157894736842,\n 0.05,\n 0.047619047619047616,\n 0.045454545454545456,\n 0.043478260869565216,\n 0.041666666666666664,\n 0.04,\n 0.038461538461538464,\n 0.037037037037037035,\n 0.03571428571428571,\n 0.034482758620689655,\n 0.03333333333333333,\n 0.03225806451612903,\n 0.03125,\n 0.030303030303030304,\n 0.029411764705882353,\n 0.02857142857142857,\n 0.027777777777777776,\n 0.02702702702702703,\n 0.02631578947368421,\n 0.02564102564102564,\n 0.025,\n 0.024390243902439025,\n 0.023809523809523808,\n 0.023255813953488372,\n 0.022727272727272728,\n 0.022222222222222223,\n 0.021739130434782608,\n 0.02127659574468085,\n 0.020833333333333332,\n 0.02040816326530612,\n 0.02,\n 0.0196078431372549,\n 0.019230769230769232,\n 0.018867924528301886,\n 0.018518518518518517,\n 0.01818181818181818,\n 0.017857142857142856,\n 0.017543859649122806,\n 0.017241379310344827,\n 0.01694915254237288,\n 0.016666666666666666,\n 0.01639344262295082,\n 0.016129032258064516,\n 0.015873015873015872,\n 0.015625,\n 0.015384615384615385,\n 0.015151515151515152,\n 0.014925373134328358,\n 0.014705882352941176,\n 0.014492753623188406,\n 0.014285714285714285,\n 0.014084507042253521,\n 0.013888888888888888,\n 0.0136986301369863,\n 0.013513513513513514,\n 0.013333333333333334,\n 0.013157894736842105,\n 0.012987012987012988,\n 0.01282051282051282,\n 0.012658227848101266,\n 0.0125,\n 0.012345679012345678,\n 0.012195121951219513,\n 0.012048192771084338,\n 0.011904761904761904,\n 0.011764705882352941,\n 0.011627906976744186,\n 0.011494252873563218,\n 0.011363636363636364,\n 0.011235955056179775,\n 0.011111111111111112,\n 0.01098901098901099,\n 0.010869565217391304,\n 0.010752688172043012,\n 0.010638297872340425,\n 0.010526315789473684,\n 0.010416666666666666,\n 0.010309278350515464,\n 0.01020408163265306,\n 0.010101010101010102,\n 0.01,\n 0.009900990099009901]"
     },
     "execution_count": 14,
     "metadata": {},
     "output_type": "execute_result"
    }
   ],
   "source": [
    "gen_vals(100)"
   ]
  },
  {
   "cell_type": "code",
   "execution_count": 16,
   "metadata": {},
   "outputs": [
    {
     "data": {
      "text/plain": "[1.0,\n 0.5,\n 0.3333333333333333,\n 0.25,\n 0.2,\n 0.16666666666666666,\n 0.14285714285714285,\n 0.125,\n 0.1111111111111111,\n 0.1,\n 0.09090909090909091]"
     },
     "execution_count": 16,
     "metadata": {},
     "output_type": "execute_result"
    }
   ],
   "source": [
    "n = 10\n",
    "v = (1/(i+1) for i in range(n+1))\n",
    "list(v)"
   ]
  },
  {
   "cell_type": "code",
   "execution_count": 9,
   "metadata": {},
   "outputs": [],
   "source": [
    "class GenVlasCals(object):\n",
    "    def __init__(self, n):\n",
    "        self.n = n\n",
    "        self._i = 0 #private but not really only gentelman agreement\n",
    "    def __iter__(self):\n",
    "        return self\n",
    "    def __next__(self):\n",
    "        return self._nextval()\n",
    "    def _nextval(self):\n",
    "        if self._i <= self.n:\n",
    "            val = 1 / (self._i +1)\n",
    "            self._i += 1\n",
    "            return val\n",
    "        else:\n",
    "            raise StopIteration()"
   ]
  },
  {
   "cell_type": "code",
   "execution_count": 17,
   "metadata": {},
   "outputs": [],
   "source": [
    "g = GenVlasCals(2)"
   ]
  },
  {
   "cell_type": "code",
   "execution_count": 14,
   "metadata": {},
   "outputs": [
    {
     "output_type": "error",
     "ename": "StopIteration",
     "evalue": "",
     "traceback": [
      "\u001b[0;31m---------------------------------------------------------------------------\u001b[0m",
      "\u001b[0;31mStopIteration\u001b[0m                             Traceback (most recent call last)",
      "\u001b[0;32m<ipython-input-14-e734f8aca5ac>\u001b[0m in \u001b[0;36m<module>\u001b[0;34m\u001b[0m\n\u001b[0;32m----> 1\u001b[0;31m \u001b[0mnext\u001b[0m\u001b[0;34m(\u001b[0m\u001b[0mg\u001b[0m\u001b[0;34m)\u001b[0m\u001b[0;34m\u001b[0m\u001b[0;34m\u001b[0m\u001b[0m\n\u001b[0m",
      "\u001b[0;32m<ipython-input-9-41fd833e2890>\u001b[0m in \u001b[0;36m__next__\u001b[0;34m(self)\u001b[0m\n\u001b[1;32m      6\u001b[0m         \u001b[0;32mreturn\u001b[0m \u001b[0mself\u001b[0m\u001b[0;34m\u001b[0m\u001b[0;34m\u001b[0m\u001b[0m\n\u001b[1;32m      7\u001b[0m     \u001b[0;32mdef\u001b[0m \u001b[0m__next__\u001b[0m\u001b[0;34m(\u001b[0m\u001b[0mself\u001b[0m\u001b[0;34m)\u001b[0m\u001b[0;34m:\u001b[0m\u001b[0;34m\u001b[0m\u001b[0;34m\u001b[0m\u001b[0m\n\u001b[0;32m----> 8\u001b[0;31m         \u001b[0;32mreturn\u001b[0m \u001b[0mself\u001b[0m\u001b[0;34m.\u001b[0m\u001b[0m_nextval\u001b[0m\u001b[0;34m(\u001b[0m\u001b[0;34m)\u001b[0m\u001b[0;34m\u001b[0m\u001b[0;34m\u001b[0m\u001b[0m\n\u001b[0m\u001b[1;32m      9\u001b[0m     \u001b[0;32mdef\u001b[0m \u001b[0m_nextval\u001b[0m\u001b[0;34m(\u001b[0m\u001b[0mself\u001b[0m\u001b[0;34m)\u001b[0m\u001b[0;34m:\u001b[0m\u001b[0;34m\u001b[0m\u001b[0;34m\u001b[0m\u001b[0m\n\u001b[1;32m     10\u001b[0m         \u001b[0;32mif\u001b[0m \u001b[0mself\u001b[0m\u001b[0;34m.\u001b[0m\u001b[0m_i\u001b[0m \u001b[0;34m<=\u001b[0m \u001b[0mself\u001b[0m\u001b[0;34m.\u001b[0m\u001b[0mn\u001b[0m\u001b[0;34m:\u001b[0m\u001b[0;34m\u001b[0m\u001b[0;34m\u001b[0m\u001b[0m\n",
      "\u001b[0;32m<ipython-input-9-41fd833e2890>\u001b[0m in \u001b[0;36m_nextval\u001b[0;34m(self)\u001b[0m\n\u001b[1;32m     13\u001b[0m             \u001b[0;32mreturn\u001b[0m \u001b[0mval\u001b[0m\u001b[0;34m\u001b[0m\u001b[0;34m\u001b[0m\u001b[0m\n\u001b[1;32m     14\u001b[0m         \u001b[0;32melse\u001b[0m\u001b[0;34m:\u001b[0m\u001b[0;34m\u001b[0m\u001b[0;34m\u001b[0m\u001b[0m\n\u001b[0;32m---> 15\u001b[0;31m             \u001b[0;32mraise\u001b[0m \u001b[0mStopIteration\u001b[0m\u001b[0;34m(\u001b[0m\u001b[0;34m)\u001b[0m\u001b[0;34m\u001b[0m\u001b[0;34m\u001b[0m\u001b[0m\n\u001b[0m",
      "\u001b[0;31mStopIteration\u001b[0m: "
     ]
    }
   ],
   "source": [
    "next(g)"
   ]
  },
  {
   "cell_type": "code",
   "execution_count": 18,
   "metadata": {},
   "outputs": [
    {
     "output_type": "stream",
     "name": "stdout",
     "text": "1.0\n0.5\n0.3333333333333333\n"
    }
   ],
   "source": [
    "for x in g:\n",
    "    print(x)"
   ]
  },
  {
   "cell_type": "markdown",
   "metadata": {},
   "source": [
    "One line generator is nicer than generator created using class but they are needed when you have more advance logic. There is also a third option: function generators\n"
   ]
  },
  {
   "cell_type": "code",
   "execution_count": 50,
   "metadata": {},
   "outputs": [],
   "source": [
    "def gen_vals(n):\n",
    "    print(\"1\")\n",
    "    for i in range(n+1):\n",
    "        print(f\"i = {i}\")\n",
    "        yield 1/(i+1)\n",
    "fg = gen_vals(2)"
   ]
  },
  {
   "cell_type": "code",
   "execution_count": 38,
   "metadata": {},
   "outputs": [
    {
     "data": {
      "text/plain": "[1.0, 0.5, 0.3333333333333333]"
     },
     "execution_count": 38,
     "metadata": {},
     "output_type": "execute_result"
    }
   ],
   "source": [
    "list(fg)"
   ]
  },
  {
   "cell_type": "code",
   "execution_count": 53,
   "metadata": {},
   "outputs": [
    {
     "name": "stdout",
     "output_type": "stream",
     "text": "i = 2\n"
    },
    {
     "data": {
      "text/plain": "0.3333333333333333"
     },
     "execution_count": 53,
     "metadata": {},
     "output_type": "execute_result"
    }
   ],
   "source": [
    "next(fg)"
   ]
  },
  {
   "cell_type": "code",
   "execution_count": 19,
   "metadata": {},
   "outputs": [],
   "source": [
    "a = [1,2,3,4,5]\n",
    "X = list(range(-1,4))\n",
    "y = []\n",
    "for x in X:\n",
    "    s = 0\n",
    "    for i in range(len(a)):\n",
    "        s += a[i] * x ** i\n",
    "    y.append(s)"
   ]
  },
  {
   "cell_type": "code",
   "execution_count": 20,
   "metadata": {},
   "outputs": [
    {
     "output_type": "stream",
     "name": "stdout",
     "text": "[3, 1, 15, 129, 547]\n"
    }
   ],
   "source": [
    "print(y)"
   ]
  },
  {
   "cell_type": "code",
   "execution_count": 57,
   "metadata": {},
   "outputs": [],
   "source": [
    "y = []\n",
    "for x in X:\n",
    "    y.append(sum( (a[i] * x ** i for i in range(len(a))) ))"
   ]
  },
  {
   "cell_type": "code",
   "execution_count": 58,
   "metadata": {},
   "outputs": [
    {
     "data": {
      "text/plain": "[3, 1, 15, 129, 547]"
     },
     "execution_count": 58,
     "metadata": {},
     "output_type": "execute_result"
    }
   ],
   "source": [
    "y"
   ]
  },
  {
   "cell_type": "code",
   "execution_count": 62,
   "metadata": {},
   "outputs": [],
   "source": [
    "# what if a is a generator\n",
    "y = []\n",
    "for x in X:\n",
    "    y.append(sum((a * x ** i for i, a in enumerate(a))))\n"
   ]
  },
  {
   "cell_type": "code",
   "execution_count": 63,
   "metadata": {},
   "outputs": [
    {
     "name": "stdout",
     "output_type": "stream",
     "text": "[3, 1, 15, 129, 547]\n"
    }
   ],
   "source": [
    "print(y)"
   ]
  },
  {
   "cell_type": "code",
   "execution_count": 64,
   "metadata": {},
   "outputs": [
    {
     "data": {
      "text/plain": "[3, 1, 15, 129, 547]"
     },
     "execution_count": 64,
     "metadata": {},
     "output_type": "execute_result"
    }
   ],
   "source": [
    "y = ( sum( (a * x ** i for i, a in enumerate(a)) ) for x in X )\n",
    "list(y)"
   ]
  },
  {
   "cell_type": "markdown",
   "metadata": {},
   "source": [
    "TEXT FILES\n"
   ]
  },
  {
   "cell_type": "code",
   "execution_count": 9,
   "metadata": {},
   "outputs": [],
   "source": [
    "f = open(\"data.txt\", \"w\")\n",
    "f.write(\"col1,col2,col3\\n1 2 3 \\n4 5 6\\n\")\n",
    "f.close()"
   ]
  },
  {
   "cell_type": "code",
   "execution_count": 10,
   "metadata": {},
   "outputs": [
    {
     "name": "stdout",
     "output_type": "stream",
     "text": "col1,col2,col3\n1 2 3 \n4 5 6\n"
    }
   ],
   "source": [
    "!cat data.txt"
   ]
  },
  {
   "cell_type": "code",
   "execution_count": 19,
   "metadata": {},
   "outputs": [
    {
     "name": "stdout",
     "output_type": "stream",
     "text": "col1,col2,col3\n1 2 3\n4 5 6\n"
    }
   ],
   "source": [
    "f = open(\"data.txt\", \"r\")\n",
    "for line in f:\n",
    "    print(line.strip())\n",
    "f.close()"
   ]
  },
  {
   "cell_type": "code",
   "execution_count": 22,
   "metadata": {},
   "outputs": [
    {
     "name": "stdout",
     "output_type": "stream",
     "text": "[[1, 4], [2, 5], [3, 6]]\n"
    }
   ],
   "source": [
    "m = []\n",
    "f = open(\"data.txt\", \"r\")\n",
    "f.readline() # not needed\n",
    "for line in f:\n",
    "    row = [ int(c) for c in line.split() ]\n",
    "    if len(m) < len(row):\n",
    "        for j in range(len(row) - len(m)):\n",
    "            m.append([])\n",
    "    for i in range(len(row)):\n",
    "        m[i].append( row[i] )\n",
    "f.close()\n",
    "print(m)"
   ]
  },
  {
   "cell_type": "code",
   "execution_count": 27,
   "metadata": {},
   "outputs": [
    {
     "data": {
      "text/plain": "[4, 10]"
     },
     "execution_count": 27,
     "metadata": {},
     "output_type": "execute_result"
    }
   ],
   "source": [
    "def add(l):\n",
    "    c1,_,c3 = map(int, l.split())\n",
    "    return c1+c3\n",
    "with open(\"data.txt\") as f:\n",
    "    next(f)\n",
    "    v = [add(line) for line in f]\n",
    "v"
   ]
  },
  {
   "cell_type": "code",
   "execution_count": null,
   "metadata": {},
   "outputs": [],
   "source": []
  }
 ]
}