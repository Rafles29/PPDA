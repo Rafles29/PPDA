{
 "nbformat": 4,
 "nbformat_minor": 2,
 "metadata": {
  "language_info": {
   "name": "python",
   "codemirror_mode": {
    "name": "ipython",
    "version": 3
   },
   "version": "3.7.6-final"
  },
  "orig_nbformat": 2,
  "file_extension": ".py",
  "mimetype": "text/x-python",
  "name": "python",
  "npconvert_exporter": "python",
  "pygments_lexer": "ipython3",
  "version": 3,
  "kernelspec": {
   "name": "python37664bit5cb71ae6c9284e74898cd00430f38632",
   "display_name": "Python 3.7.6 64-bit"
  }
 },
 "cells": [
  {
   "cell_type": "markdown",
   "metadata": {},
   "source": [
    "Quick revision"
   ]
  },
  {
   "cell_type": "code",
   "execution_count": 4,
   "metadata": {},
   "outputs": [
    {
     "output_type": "stream",
     "name": "stdout",
     "text": "First run:\n0\n2\n4\n6\n8\nSecond run:\nThe End.\n"
    }
   ],
   "source": [
    "a = list(range(10))\n",
    "f = filter(lambda x: x % 2 == 0, a)\n",
    "print(\"First run:\")\n",
    "for i in f:\n",
    "    print(i)\n",
    "print(\"Second run:\")\n",
    "for i in f:\n",
    "    print(i)\n",
    "print(\"The End.\")"
   ]
  },
  {
   "cell_type": "markdown",
   "metadata": {},
   "source": [
    "Enumerate, filter and map are generators. It means that you can iterate over them, but yuo dont know the length, one item at the time. If you iterat over generator, then it's empty."
   ]
  },
  {
   "cell_type": "code",
   "execution_count": 6,
   "metadata": {},
   "outputs": [
    {
     "output_type": "stream",
     "name": "stdout",
     "text": "True\nFalse\nTrue\n45.3\nFalse\nTrue\n45.3\n"
    }
   ],
   "source": [
    "class MyClass:\n",
    "    def __init__(self):\n",
    "        self.ca = \"A\"\n",
    "myInstance = MyClass()\n",
    "\n",
    "print(hasattr(myInstance, \"ca\"))\n",
    "print(hasattr(myInstance, \"dynamic\"))\n",
    "\n",
    "myInstance.dynamic = 45.3\n",
    "\n",
    "print(hasattr(myInstance, \"dynamic\"))\n",
    "print(myInstance.dynamic)\n",
    "\n",
    "myNewInstance = MyClass()\n",
    "\n",
    "print(hasattr(myNewInstance, \"dynamic\"))\n",
    "\n",
    "MyClass.dynamic = \"99.9\"\n",
    "\n",
    "print(hasattr(myNewInstance, \"dynamic\"))\n",
    "print(myInstance.dynamic)"
   ]
  },
  {
   "cell_type": "markdown",
   "metadata": {},
   "source": [
    "Example of class. __init__ is a constructor. Every method n python needs self as an argument. In python every property is public. If you use '_' before method or property name it doesn't make it private, it is just gentleman agreement to use is like pirivate. Like in javascript you can add properties to objects. There is also method to check is this object has some attribute. You can add attributes dymanicly and if you add dymanicly to the class, every instance of this class will have this attr."
   ]
  },
  {
   "cell_type": "code",
   "execution_count": 7,
   "metadata": {},
   "outputs": [
    {
     "output_type": "stream",
     "name": "stdout",
     "text": "1\n2\n"
    }
   ],
   "source": [
    "a,b = (1, 2) #destructured\n",
    "print(a)\n",
    "print(b)"
   ]
  },
  {
   "cell_type": "markdown",
   "metadata": {},
   "source": [
    "You can create generators 3 way: with function, class or inline\n"
   ]
  },
  {
   "cell_type": "code",
   "execution_count": 8,
   "metadata": {},
   "outputs": [
    {
     "output_type": "execute_result",
     "data": {
      "text/plain": "<generator object <genexpr> at 0x105560050>"
     },
     "metadata": {},
     "execution_count": 8
    }
   ],
   "source": [
    "g = ( str(x) for x in [1,2,3,4]) # inline\n",
    "g"
   ]
  },
  {
   "cell_type": "code",
   "execution_count": 9,
   "metadata": {},
   "outputs": [
    {
     "output_type": "execute_result",
     "data": {
      "text/plain": "'1'"
     },
     "metadata": {},
     "execution_count": 9
    }
   ],
   "source": [
    "next(g)"
   ]
  },
  {
   "cell_type": "code",
   "execution_count": 10,
   "metadata": {},
   "outputs": [
    {
     "output_type": "stream",
     "name": "stdout",
     "text": "1\n1\n1\n1\n"
    }
   ],
   "source": [
    "def mygen(n): #function generator\n",
    "    i = 1\n",
    "    while (i <= n):\n",
    "        yield i # here :-)\n",
    "    i += 1\n",
    "g = mygen(3)\n",
    "print(next(g, None))\n",
    "print(next(g, None))\n",
    "print(next(g, None))\n",
    "print(next(g, None))"
   ]
  },
  {
   "cell_type": "code",
   "execution_count": 11,
   "metadata": {},
   "outputs": [],
   "source": [
    "!echo \"a b c\\n1 2 3\\n4 5 6\\n7 8 9\" > data3.txt #creates file"
   ]
  },
  {
   "cell_type": "markdown",
   "metadata": {},
   "source": [
    "File operations in python."
   ]
  },
  {
   "cell_type": "code",
   "execution_count": 12,
   "metadata": {},
   "outputs": [],
   "source": [
    "s = \"a b c\\n1 2 3\\n4 5 6\\n7 8 9\"\n",
    "with open(\"data3.txt\",\"w\") as f:\n",
    "    f.write(s)"
   ]
  },
  {
   "cell_type": "code",
   "execution_count": 14,
   "metadata": {},
   "outputs": [
    {
     "output_type": "stream",
     "name": "stdout",
     "text": "a b c\n1 2 3\n4 5 6\n7 8 9"
    }
   ],
   "source": [
    "!cat data3.txt"
   ]
  },
  {
   "cell_type": "code",
   "execution_count": 25,
   "metadata": {},
   "outputs": [
    {
     "output_type": "error",
     "ename": "TypeError",
     "evalue": "cannot unpack non-iterable int object",
     "traceback": [
      "\u001b[0;31m---------------------------------------------------------------------------\u001b[0m",
      "\u001b[0;31mTypeError\u001b[0m                                 Traceback (most recent call last)",
      "\u001b[0;32m<ipython-input-25-bb977a05141a>\u001b[0m in \u001b[0;36m<module>\u001b[0;34m\u001b[0m\n\u001b[1;32m      1\u001b[0m \u001b[0;32mwith\u001b[0m \u001b[0mopen\u001b[0m\u001b[0;34m(\u001b[0m\u001b[0;34m\"data3.txt\"\u001b[0m\u001b[0;34m)\u001b[0m \u001b[0;32mas\u001b[0m \u001b[0mf\u001b[0m\u001b[0;34m:\u001b[0m\u001b[0;34m\u001b[0m\u001b[0;34m\u001b[0m\u001b[0m\n\u001b[1;32m      2\u001b[0m     \u001b[0mnext\u001b[0m\u001b[0;34m(\u001b[0m\u001b[0mf\u001b[0m\u001b[0;34m)\u001b[0m \u001b[0;31m# reads first line which is header\u001b[0m\u001b[0;34m\u001b[0m\u001b[0;34m\u001b[0m\u001b[0m\n\u001b[0;32m----> 3\u001b[0;31m     \u001b[0mv\u001b[0m \u001b[0;34m=\u001b[0m \u001b[0;34m[\u001b[0m \u001b[0ma\u001b[0m\u001b[0;34m+\u001b[0m\u001b[0mc\u001b[0m \u001b[0;32mfor\u001b[0m \u001b[0ml\u001b[0m \u001b[0;32min\u001b[0m \u001b[0mf\u001b[0m \u001b[0;32mfor\u001b[0m \u001b[0;34m(\u001b[0m\u001b[0ma\u001b[0m\u001b[0;34m,\u001b[0m\u001b[0m_\u001b[0m\u001b[0;34m,\u001b[0m\u001b[0mc\u001b[0m\u001b[0;34m)\u001b[0m \u001b[0;32min\u001b[0m \u001b[0mlist\u001b[0m\u001b[0;34m(\u001b[0m\u001b[0mmap\u001b[0m\u001b[0;34m(\u001b[0m\u001b[0mint\u001b[0m\u001b[0;34m,\u001b[0m \u001b[0ml\u001b[0m\u001b[0;34m.\u001b[0m\u001b[0msplit\u001b[0m\u001b[0;34m(\u001b[0m\u001b[0;34m)\u001b[0m\u001b[0;34m)\u001b[0m\u001b[0;34m)\u001b[0m \u001b[0;34m]\u001b[0m\u001b[0;34m\u001b[0m\u001b[0;34m\u001b[0m\u001b[0m\n\u001b[0m\u001b[1;32m      4\u001b[0m     \u001b[0mprint\u001b[0m\u001b[0;34m(\u001b[0m\u001b[0mv\u001b[0m\u001b[0;34m)\u001b[0m\u001b[0;34m\u001b[0m\u001b[0;34m\u001b[0m\u001b[0m\n",
      "\u001b[0;32m<ipython-input-25-bb977a05141a>\u001b[0m in \u001b[0;36m<listcomp>\u001b[0;34m(.0)\u001b[0m\n\u001b[1;32m      1\u001b[0m \u001b[0;32mwith\u001b[0m \u001b[0mopen\u001b[0m\u001b[0;34m(\u001b[0m\u001b[0;34m\"data3.txt\"\u001b[0m\u001b[0;34m)\u001b[0m \u001b[0;32mas\u001b[0m \u001b[0mf\u001b[0m\u001b[0;34m:\u001b[0m\u001b[0;34m\u001b[0m\u001b[0;34m\u001b[0m\u001b[0m\n\u001b[1;32m      2\u001b[0m     \u001b[0mnext\u001b[0m\u001b[0;34m(\u001b[0m\u001b[0mf\u001b[0m\u001b[0;34m)\u001b[0m \u001b[0;31m# reads first line which is header\u001b[0m\u001b[0;34m\u001b[0m\u001b[0;34m\u001b[0m\u001b[0m\n\u001b[0;32m----> 3\u001b[0;31m     \u001b[0mv\u001b[0m \u001b[0;34m=\u001b[0m \u001b[0;34m[\u001b[0m \u001b[0ma\u001b[0m\u001b[0;34m+\u001b[0m\u001b[0mc\u001b[0m \u001b[0;32mfor\u001b[0m \u001b[0ml\u001b[0m \u001b[0;32min\u001b[0m \u001b[0mf\u001b[0m \u001b[0;32mfor\u001b[0m \u001b[0;34m(\u001b[0m\u001b[0ma\u001b[0m\u001b[0;34m,\u001b[0m\u001b[0m_\u001b[0m\u001b[0;34m,\u001b[0m\u001b[0mc\u001b[0m\u001b[0;34m)\u001b[0m \u001b[0;32min\u001b[0m \u001b[0mlist\u001b[0m\u001b[0;34m(\u001b[0m\u001b[0mmap\u001b[0m\u001b[0;34m(\u001b[0m\u001b[0mint\u001b[0m\u001b[0;34m,\u001b[0m \u001b[0ml\u001b[0m\u001b[0;34m.\u001b[0m\u001b[0msplit\u001b[0m\u001b[0;34m(\u001b[0m\u001b[0;34m)\u001b[0m\u001b[0;34m)\u001b[0m\u001b[0;34m)\u001b[0m \u001b[0;34m]\u001b[0m\u001b[0;34m\u001b[0m\u001b[0;34m\u001b[0m\u001b[0m\n\u001b[0m\u001b[1;32m      4\u001b[0m     \u001b[0mprint\u001b[0m\u001b[0;34m(\u001b[0m\u001b[0mv\u001b[0m\u001b[0;34m)\u001b[0m\u001b[0;34m\u001b[0m\u001b[0;34m\u001b[0m\u001b[0m\n",
      "\u001b[0;31mTypeError\u001b[0m: cannot unpack non-iterable int object"
     ]
    }
   ],
   "source": [
    "with open(\"data3.txt\") as f:\n",
    "    next(f) # reads first line which is header\n",
    "    v = [ a+c for l in f for (a,_,c) in list(map(int, l.split())) ]\n",
    "    print(v)"
   ]
  },
  {
   "cell_type": "markdown",
   "metadata": {},
   "source": [
    "This code adds first and third element in line. It has nested for loop. First you iterate over each line in file (for l in f). You map splited numbers to int and pack them to array [map(int, l.split())]. Then you destruct them to a and c and at last you add them."
   ]
  },
  {
   "cell_type": "markdown",
   "metadata": {},
   "source": [
    "Arugments in python"
   ]
  },
  {
   "cell_type": "code",
   "execution_count": 26,
   "metadata": {},
   "outputs": [
    {
     "output_type": "error",
     "ename": "TypeError",
     "evalue": "fun() missing 1 required positional argument: 'req_arg'",
     "traceback": [
      "\u001b[0;31m---------------------------------------------------------------------------\u001b[0m",
      "\u001b[0;31mTypeError\u001b[0m                                 Traceback (most recent call last)",
      "\u001b[0;32m<ipython-input-26-1f25adfa07a4>\u001b[0m in \u001b[0;36m<module>\u001b[0;34m\u001b[0m\n\u001b[1;32m      1\u001b[0m \u001b[0;32mdef\u001b[0m \u001b[0mfun\u001b[0m\u001b[0;34m(\u001b[0m\u001b[0mreq_arg\u001b[0m\u001b[0;34m)\u001b[0m\u001b[0;34m:\u001b[0m\u001b[0;34m\u001b[0m\u001b[0;34m\u001b[0m\u001b[0m\n\u001b[1;32m      2\u001b[0m     \u001b[0mprint\u001b[0m\u001b[0;34m(\u001b[0m\u001b[0mreq_arg\u001b[0m\u001b[0;34m)\u001b[0m\u001b[0;34m\u001b[0m\u001b[0;34m\u001b[0m\u001b[0m\n\u001b[0;32m----> 3\u001b[0;31m \u001b[0mfun\u001b[0m\u001b[0;34m(\u001b[0m\u001b[0;34m)\u001b[0m\u001b[0;34m\u001b[0m\u001b[0;34m\u001b[0m\u001b[0m\n\u001b[0m",
      "\u001b[0;31mTypeError\u001b[0m: fun() missing 1 required positional argument: 'req_arg'"
     ]
    }
   ],
   "source": [
    "def fun(req_arg):\n",
    "    print(req_arg)\n",
    "    \n",
    "fun()"
   ]
  },
  {
   "cell_type": "code",
   "execution_count": 28,
   "metadata": {},
   "outputs": [
    {
     "output_type": "stream",
     "name": "stdout",
     "text": "Hallo\n"
    }
   ],
   "source": [
    "fun('Hallo')"
   ]
  },
  {
   "cell_type": "code",
   "execution_count": 30,
   "metadata": {},
   "outputs": [
    {
     "output_type": "stream",
     "name": "stdout",
     "text": "Hello\n"
    }
   ],
   "source": [
    "def fun(optional_argument = 'Hello'):\n",
    "    print(optional_argument)\n",
    "fun()"
   ]
  },
  {
   "cell_type": "code",
   "execution_count": 31,
   "metadata": {},
   "outputs": [
    {
     "output_type": "stream",
     "name": "stdout",
     "text": "hi\n"
    }
   ],
   "source": [
    "fun('hi')"
   ]
  },
  {
   "cell_type": "code",
   "execution_count": 32,
   "metadata": {},
   "outputs": [
    {
     "output_type": "stream",
     "name": "stdout",
     "text": "Hello World\n"
    }
   ],
   "source": [
    "def fun(required_argument, optional_argument = 'World'):\n",
    "    print(f'{required_argument} {optional_argument}')\n",
    "fun('Hello')"
   ]
  },
  {
   "cell_type": "code",
   "execution_count": 33,
   "metadata": {},
   "outputs": [
    {
     "output_type": "stream",
     "name": "stdout",
     "text": "hello Rafal\n"
    }
   ],
   "source": [
    "fun('hello', 'Rafal')"
   ]
  },
  {
   "cell_type": "code",
   "execution_count": 34,
   "metadata": {},
   "outputs": [
    {
     "output_type": "error",
     "ename": "SyntaxError",
     "evalue": "non-default argument follows default argument (<ipython-input-34-c1d6663cde3a>, line 2)",
     "traceback": [
      "\u001b[0;36m  File \u001b[0;32m\"<ipython-input-34-c1d6663cde3a>\"\u001b[0;36m, line \u001b[0;32m2\u001b[0m\n\u001b[0;31m    def fun(optional_argument = 'World', required_argument):\u001b[0m\n\u001b[0m           ^\u001b[0m\n\u001b[0;31mSyntaxError\u001b[0m\u001b[0;31m:\u001b[0m non-default argument follows default argument\n"
     ]
    }
   ],
   "source": [
    "# wrong order of arguments - the required positional arguments must be first\n",
    "def fun(optional_argument = 'World', required_argument):\n",
    "    print(f'{required_argument} {optional_argument}')\n",
    "fun('Hello')"
   ]
  },
  {
   "cell_type": "markdown",
   "metadata": {},
   "source": [
    "You can specify wich otpional argument you wnat to pass using naming, but you cannot change the order"
   ]
  },
  {
   "cell_type": "code",
   "execution_count": 35,
   "metadata": {},
   "outputs": [
    {
     "output_type": "stream",
     "name": "stdout",
     "text": "Req: Hello, Opt:Any value, Opt3:Option 3\nReq: Hello, Opt:Bla bla, Opt3:Option 3\nReq: Hello, Opt:Any value, Opt3:Bla bla\n"
    }
   ],
   "source": [
    "# named and unnamed arguments\n",
    "\n",
    "def fun(required_arg, optional_arg=\"Any value\", opt3=\"Option 3\"):\n",
    "    print(f\"Req: {required_arg}, Opt:{optional_arg}, Opt3:{opt3}\")\n",
    "\n",
    "fun(\"Hello\")\n",
    "fun(\"Hello\", \"Bla bla\")\n",
    "fun(\"Hello\", opt3=\"Bla bla\")"
   ]
  },
  {
   "cell_type": "markdown",
   "metadata": {},
   "source": [
    "You can pass many argument as list of arguments"
   ]
  },
  {
   "cell_type": "code",
   "execution_count": 37,
   "metadata": {},
   "outputs": [
    {
     "output_type": "stream",
     "name": "stdout",
     "text": "required\n('first unnamed', 'second unnamed')\n{'my_funny_arg': 'bla bla bla'}\n"
    }
   ],
   "source": [
    "def fun4(req_arg, *args, **kwargs):\n",
    "    print(req_arg)\n",
    "    print(args)\n",
    "    print(kwargs)\n",
    "fun4('required', 'first unnamed', 'second unnamed', my_funny_arg='bla bla bla')"
   ]
  },
  {
   "cell_type": "markdown",
   "metadata": {},
   "source": [
    "Zip function is a generator which returns tupples with coresponding items from given arrays"
   ]
  },
  {
   "cell_type": "code",
   "execution_count": 49,
   "metadata": {},
   "outputs": [
    {
     "output_type": "execute_result",
     "data": {
      "text/plain": "[(1, 'a', 4.0), (8, 'c', 5.0), (3, 'e', 6.0), (2, 'd', 9.0)]"
     },
     "metadata": {},
     "execution_count": 49
    }
   ],
   "source": [
    "i = [1,    8,   3,   2]\n",
    "l = ['a', 'c', 'e', 'd']\n",
    "f = [4.0, 5.0, 6.0, 9.0]\n",
    "zipped = zip(i, l, f)  # Three input iterables\n",
    "lst = list(zipped)\n",
    "lst"
   ]
  },
  {
   "cell_type": "code",
   "execution_count": 46,
   "metadata": {},
   "outputs": [
    {
     "output_type": "stream",
     "name": "stdout",
     "text": "[(1, 'a', 4.0), (8, 'c', 5.0), (3, 'e', 6.0), (2, 'd', 9.0)]\n[(1, 'a', 4.0), (2, 'd', 9.0), (3, 'e', 6.0), (8, 'c', 5.0)]\n[(1, 'a', 4.0), (8, 'c', 5.0), (2, 'd', 9.0), (3, 'e', 6.0)]\n"
    }
   ],
   "source": [
    "zipped = zip(i, l, f)\n",
    "data1 = list(zipped)\n",
    "print(data1)\n",
    "data1.sort()\n",
    "print(data1)\n",
    "data1.sort(key = lambda d: d[1])\n",
    "print(data1)"
   ]
  },
  {
   "cell_type": "code",
   "execution_count": 56,
   "metadata": {},
   "outputs": [
    {
     "output_type": "stream",
     "name": "stdout",
     "text": "1 a 4.0\n8 c 5.0\n3 e 6.0\n2 d 9.0\n"
    }
   ],
   "source": [
    "for i,l,f in zip(i,l,f):\n",
    "    print(f\"{i} {l} {f}\")"
   ]
  },
  {
   "cell_type": "code",
   "execution_count": 53,
   "metadata": {},
   "outputs": [
    {
     "output_type": "stream",
     "name": "stdout",
     "text": "[(1, 'a', 4.0), (8, 'c', 5.0), (3, 'e', 6.0), (2, 'd', 9.0)]\n(1, 8, 3, 2)\n"
    }
   ],
   "source": [
    "i = [1,    8,   3,   2]\n",
    "l = ['a', 'c', 'e', 'd']\n",
    "f = [4.0, 5.0, 6.0, 9.0]\n",
    "\n",
    "list_of_tuples = list(zip(i, l, f))\n",
    "print(list_of_tuples)\n",
    "\n",
    "# unziping\n",
    "l1,l2,l3 = zip( *list_of_tuples)\n",
    "print(l1)"
   ]
  },
  {
   "cell_type": "code",
   "execution_count": 55,
   "metadata": {},
   "outputs": [
    {
     "output_type": "stream",
     "name": "stdout",
     "text": "{'name': 'John', 'last_name': 'Doe', 'age': '45', 'job': 'Python Developer'}\n{'name': 'John', 'last_name': 'Doe', 'age': '45', 'job': 'Python Consultant', 'job1': 'Teaching assistant'}\n"
    }
   ],
   "source": [
    "fields = ['name', 'last_name', 'age', 'job']\n",
    "values = ['John', 'Doe', '45', 'Python Developer']\n",
    "\n",
    "# creating dictionary\n",
    "a_dict = dict(zip(fields, values))\n",
    "print(a_dict)\n",
    "\n",
    "# updating dictionary\n",
    "field = ['job', 'job1']\n",
    "new_job = ['Python Consultant', \"Teaching assistant\"]\n",
    "a_dict.update(zip(field, new_job))\n",
    "print(a_dict)"
   ]
  },
  {
   "cell_type": "markdown",
   "metadata": {},
   "source": [
    "Error Handling. Two styles: defensive and offensive. Defensive we try to predict error and fix it, Offensive if something is worng we brake the program."
   ]
  },
  {
   "cell_type": "code",
   "execution_count": 60,
   "metadata": {},
   "outputs": [
    {
     "output_type": "stream",
     "name": "stdout",
     "text": "inf\n0.03333333333333333\n"
    }
   ],
   "source": [
    "# defensive\n",
    "def divide(a,b):\n",
    "    if b == 0:\n",
    "        return float(\"inf\")\n",
    "    else:\n",
    "        return a/b\n",
    "print(divide(1,0))\n",
    "print(divide(0.1,3))"
   ]
  },
  {
   "cell_type": "code",
   "execution_count": 61,
   "metadata": {},
   "outputs": [
    {
     "output_type": "error",
     "ename": "SystemExit",
     "evalue": "-1",
     "traceback": [
      "An exception has occurred, use %tb to see the full traceback.\n",
      "\u001b[0;31mSystemExit\u001b[0m\u001b[0;31m:\u001b[0m -1\n"
     ]
    }
   ],
   "source": [
    "# offensive\n",
    "def divide(a,b):\n",
    "    if b == 0:\n",
    "        import sys\n",
    "        sys.exit(-1)\n",
    "    else:\n",
    "        return a/b\n",
    "print(divide(1,0))\n",
    "print(divide(0.1,3))"
   ]
  },
  {
   "cell_type": "code",
   "execution_count": 62,
   "metadata": {},
   "outputs": [],
   "source": [
    "def divide(a,b):\n",
    "    if b == 0:\n",
    "        raise Exception(\"Divisor cannot be zero.\")\n",
    "    else:\n",
    "        return a/b"
   ]
  },
  {
   "cell_type": "code",
   "execution_count": 64,
   "metadata": {},
   "outputs": [
    {
     "output_type": "stream",
     "name": "stdout",
     "text": "Divisor cannot be zero.\n1.0\n"
    }
   ],
   "source": [
    "try:\n",
    "    print(divide(1,0))\n",
    "except Exception as e:\n",
    "    print(e)\n",
    "print(divide(1,1))"
   ]
  },
  {
   "cell_type": "code",
   "execution_count": 70,
   "metadata": {},
   "outputs": [
    {
     "output_type": "stream",
     "name": "stdout",
     "text": "Doing something.\nFile not found: [Errno 2] No such file or directory: 'file.log'\nCleaning up, irrespective of any exceptions. Releasing resources!\n"
    }
   ],
   "source": [
    "def linux_interaction():\n",
    "    import sys\n",
    "    assert ('darwin' in sys.platform), \"Function can only run on Mac systems.\"\n",
    "    print('Doing something.')\n",
    "try:\n",
    "    linux_interaction()\n",
    "except AssertionError as error:\n",
    "    print(f\"Assertion: {error}\")\n",
    "else:\n",
    "    try:\n",
    "        with open('file.log') as file:\n",
    "            read_data = file.read()\n",
    "    except FileNotFoundError as fnf_error:\n",
    "        print(f\"File not found: {fnf_error}\")\n",
    "finally:\n",
    "    print('Cleaning up, irrespective of any exceptions. Releasing resources!')"
   ]
  },
  {
   "cell_type": "markdown",
   "metadata": {},
   "source": [
    "Context Managers and the 'with' Statement. We use with statement to not bother with hanlding excpetions i.e openning a file, it does it for us. When the indendent code ends file is automatically closed."
   ]
  },
  {
   "cell_type": "code",
   "execution_count": 78,
   "metadata": {},
   "outputs": [
    {
     "output_type": "error",
     "ename": "ZeroDivisionError",
     "evalue": "division by zero",
     "traceback": [
      "\u001b[0;31m---------------------------------------------------------------------------\u001b[0m",
      "\u001b[0;31mZeroDivisionError\u001b[0m                         Traceback (most recent call last)",
      "\u001b[0;32m<ipython-input-78-78afb30f3972>\u001b[0m in \u001b[0;36m<module>\u001b[0;34m\u001b[0m\n\u001b[1;32m      1\u001b[0m \u001b[0;32mwith\u001b[0m \u001b[0mopen\u001b[0m\u001b[0;34m(\u001b[0m\u001b[0;34m'debulog3'\u001b[0m\u001b[0;34m,\u001b[0m \u001b[0;34m'a'\u001b[0m\u001b[0;34m)\u001b[0m \u001b[0;32mas\u001b[0m \u001b[0mf\u001b[0m\u001b[0;34m:\u001b[0m \u001b[0;31m# f is content manager here\u001b[0m\u001b[0;34m\u001b[0m\u001b[0;34m\u001b[0m\u001b[0m\n\u001b[1;32m      2\u001b[0m     \u001b[0mf\u001b[0m\u001b[0;34m.\u001b[0m\u001b[0mwrite\u001b[0m\u001b[0;34m(\u001b[0m\u001b[0;34m\"some log message\\n\"\u001b[0m\u001b[0;34m)\u001b[0m\u001b[0;34m\u001b[0m\u001b[0;34m\u001b[0m\u001b[0m\n\u001b[0;32m----> 3\u001b[0;31m     \u001b[0ma\u001b[0m \u001b[0;34m=\u001b[0m \u001b[0;36m1\u001b[0m\u001b[0;34m/\u001b[0m\u001b[0;36m0\u001b[0m\u001b[0;34m\u001b[0m\u001b[0;34m\u001b[0m\u001b[0m\n\u001b[0m",
      "\u001b[0;31mZeroDivisionError\u001b[0m: division by zero"
     ]
    }
   ],
   "source": [
    "with open('debulog3', 'a') as f: # f is content manager here\n",
    "    f.write(\"some log message\\n\")\n",
    "    a = 1/0"
   ]
  },
  {
   "cell_type": "code",
   "execution_count": 79,
   "metadata": {},
   "outputs": [
    {
     "output_type": "stream",
     "name": "stdout",
     "text": "\nsome log message\n"
    }
   ],
   "source": [
    "!cat debulog3 # file works and has all the content"
   ]
  },
  {
   "cell_type": "code",
   "execution_count": 80,
   "metadata": {},
   "outputs": [],
   "source": [
    "class Account:\n",
    "    def __init__(self, number, balance):\n",
    "        self.number = number\n",
    "        self.balance = balance\n",
    "        \n",
    "    def __str__(self):\n",
    "        return f\"Account no: {self.number} with balance: {self.balance}\"\n",
    "    \n",
    "    def __copy__(self):\n",
    "        return Account(self.number, self.balance)\n",
    "    \n",
    "    def readFrom(self, other):\n",
    "        #self.number = other.number\n",
    "        #self.balance = other.balance\n",
    "\n",
    "        # coppies all values from another object so you dont have to set all attributes\n",
    "        self.__dict__.clear()\n",
    "        self.__dict__.update(other.__dict__)"
   ]
  },
  {
   "cell_type": "code",
   "execution_count": 81,
   "metadata": {},
   "outputs": [
    {
     "output_type": "stream",
     "name": "stdout",
     "text": "other_attr = None\nattr = ala\n"
    }
   ],
   "source": [
    "# presenation of __dict__ containing all atributes, you can also see them using dir()\n",
    "class MyClass(object):\n",
    "    def __init__(self):\n",
    "        self.other_attr = None\n",
    "\n",
    "obj = MyClass()\n",
    "obj.attr = \"ala\"\n",
    "obj.__dict__\n",
    "\n",
    "for a,v in obj.__dict__.items():\n",
    "    print(f\"{a} = {v}\")"
   ]
  },
  {
   "cell_type": "code",
   "execution_count": 82,
   "metadata": {},
   "outputs": [
    {
     "output_type": "execute_result",
     "data": {
      "text/plain": "['__class__',\n '__delattr__',\n '__dict__',\n '__dir__',\n '__doc__',\n '__eq__',\n '__format__',\n '__ge__',\n '__getattribute__',\n '__gt__',\n '__hash__',\n '__init__',\n '__init_subclass__',\n '__le__',\n '__lt__',\n '__module__',\n '__ne__',\n '__new__',\n '__reduce__',\n '__reduce_ex__',\n '__repr__',\n '__setattr__',\n '__sizeof__',\n '__str__',\n '__subclasshook__',\n '__weakref__',\n 'attr',\n 'other_attr']"
     },
     "metadata": {},
     "execution_count": 82
    }
   ],
   "source": [
    "dir(obj)"
   ]
  },
  {
   "cell_type": "code",
   "execution_count": 92,
   "metadata": {},
   "outputs": [],
   "source": [
    "class BankTransfer:\n",
    "    def __init__(self, fromAccount, toAccount):\n",
    "        self.fromAccount = fromAccount\n",
    "        self.toAccount = toAccount\n",
    "        \n",
    "    def transfer(self, amount):\n",
    "        # a1 = self.fromAccount\n",
    "        # a2 = self.toAccount\n",
    "        a1 = self.tmpFromAccount\n",
    "        a2 = self.tmpToAccount\n",
    "        a1.balance = a1.balance - amount\n",
    "        a2.balance = a2.balance + amount/0\n",
    "        \n",
    "    def startTransaction(self):\n",
    "        import copy\n",
    "        self.tmpFromAccount = copy.copy(self.fromAccount)\n",
    "        self.tmpToAccount = copy.copy(self.toAccount)\n",
    "        \n",
    "    def finishTransaction(self):\n",
    "        import copy\n",
    "        self.fromAccount.readFrom(self.tmpFromAccount)\n",
    "        self.toAccount.readFrom(self.tmpToAccount)\n",
    "        \n",
    "    def __enter__(self):\n",
    "        print(\"Starting transfer...\")\n",
    "        self.startTransaction()\n",
    "        \n",
    "    def __exit__(self, type, value, traceback):\n",
    "        if type is None:\n",
    "            print(f\"Finishing transfer without error\")\n",
    "            self.finishTransaction()\n",
    "        else:\n",
    "            print(f\"Revoking transaction with error type: {type}\")\n",
    "            return True # - we can return true to avoid passing the exception"
   ]
  },
  {
   "cell_type": "code",
   "execution_count": 93,
   "metadata": {},
   "outputs": [
    {
     "output_type": "stream",
     "name": "stdout",
     "text": "Initial state:\nAccount no: 11 2343 4444 2222 with balance: 1500\nAccount no: 33 2444 9834 2332 with balance: 23\nStarting transfer...\nRevoking transaction with error type: <class 'ZeroDivisionError'>\nAfter Transfer:\nAccount no: 11 2343 4444 2222 with balance: 1500\nAccount no: 33 2444 9834 2332 with balance: 23\n"
    }
   ],
   "source": [
    "a1 = Account('11 2343 4444 2222', 1500)\n",
    "a2 = Account('33 2444 9834 2332', 23)\n",
    "print(\"Initial state:\")\n",
    "print(a1)\n",
    "print(a2)\n",
    "\n",
    "# amount = 500\n",
    "# a1.balance = a1.balance - amount\n",
    "# a2.balance = a2.balance + amount\n",
    "\n",
    "transfer = BankTransfer(a1, a2)\n",
    "\n",
    "# version without 'with'\n",
    "#try:\n",
    "#    transfer = BankTransfer(a1, a2)\n",
    "#    transfer.startTransaction()\n",
    "#    transfer.transfer(500)\n",
    "#    transfer.finishTransaction()\n",
    "#except Exception as e:\n",
    "#    print(e)\n",
    "\n",
    "with transfer:\n",
    "    transfer.transfer(500)\n",
    "    \n",
    "print(\"After Transfer:\")\n",
    "print(a1)\n",
    "print(a2)"
   ]
  },
  {
   "cell_type": "code",
   "execution_count": 94,
   "metadata": {},
   "outputs": [],
   "source": [
    "class BankTransferGood:\n",
    "    def __init__(self, fromAccount, toAccount):\n",
    "        self.fromAccount = fromAccount\n",
    "        self.toAccount = toAccount\n",
    "        \n",
    "    def transfer(self, amount):\n",
    "        # a1 = self.fromAccount\n",
    "        # a2 = self.toAccount\n",
    "        a1 = self.tmpFromAccount\n",
    "        a2 = self.tmpToAccount\n",
    "        a1.balance = a1.balance - amount\n",
    "        a2.balance = a2.balance + amount\n",
    "        \n",
    "    def startTransaction(self):\n",
    "        import copy\n",
    "        self.tmpFromAccount = copy.copy(self.fromAccount)\n",
    "        self.tmpToAccount = copy.copy(self.toAccount)\n",
    "        \n",
    "    def finishTransaction(self):\n",
    "        import copy\n",
    "        self.fromAccount.readFrom(self.tmpFromAccount)\n",
    "        self.toAccount.readFrom(self.tmpToAccount)\n",
    "        \n",
    "    def __enter__(self):\n",
    "        print(\"Starting transfer...\")\n",
    "        self.startTransaction()\n",
    "        \n",
    "    def __exit__(self, type, value, traceback):\n",
    "        if type is None:\n",
    "            print(f\"Finishing transfer without error\")\n",
    "            self.finishTransaction()\n",
    "        else:\n",
    "            print(f\"Revoking transaction with error type: {type}\")\n",
    "            return True # - we can return true to avoid passing the exception"
   ]
  },
  {
   "cell_type": "code",
   "execution_count": 96,
   "metadata": {},
   "outputs": [
    {
     "output_type": "stream",
     "name": "stdout",
     "text": "Initial state:\nAccount no: 11 2343 4444 2222 with balance: 1500\nAccount no: 33 2444 9834 2332 with balance: 23\nStarting transfer...\nFinishing transfer without error\nAfter Transfer:\nAccount no: 11 2343 4444 2222 with balance: 1000\nAccount no: 33 2444 9834 2332 with balance: 523\n"
    }
   ],
   "source": [
    "print(\"Initial state:\")\n",
    "print(a1)\n",
    "print(a2)\n",
    "transfer = BankTransferGood(a1,a2)\n",
    "\n",
    "with transfer:\n",
    "    transfer.transfer(500)\n",
    "\n",
    "print(\"After Transfer:\")\n",
    "print(a1)\n",
    "print(a2)"
   ]
  },
  {
   "cell_type": "markdown",
   "metadata": {},
   "source": [
    "A Closure is a function object that remembers values in enclosing scopes even if they are not present in memory (they are not referenced by any variable). The values are assigned to the function calls itself. Each function call construct a separate context which is a closure. "
   ]
  },
  {
   "cell_type": "code",
   "execution_count": 97,
   "metadata": {},
   "outputs": [
    {
     "output_type": "stream",
     "name": "stdout",
     "text": "Apple grows on trees.\nINstead of nothing\n"
    }
   ],
   "source": [
    "def where_it_grows(fruit):\n",
    "    \"This is the enclosing function \"\n",
    "    def on_trees():\n",
    "        \"The nested function\"\n",
    "        print(f\"{fruit.capitalize()} grows on trees.\")\n",
    "    on_trees()\n",
    "    \n",
    "    return \"INstead of nothing\"\n",
    "print(where_it_grows(\"apple\"))"
   ]
  },
  {
   "cell_type": "code",
   "execution_count": 98,
   "metadata": {},
   "outputs": [
    {
     "output_type": "stream",
     "name": "stdout",
     "text": "Pear grow on trees.\nStrawberris grow on trees.\nPlums grow on trees.\n"
    }
   ],
   "source": [
    "def where_it_grows(fruit):\n",
    "    def on_trees():\n",
    "        #fruit = \"strawberry\"\n",
    "        print (f\"{fruit.capitalize()} grow on trees.\")\n",
    "        \n",
    "    # print(f\"Value of fruit in where_it_grows: {fruit}\")\n",
    "    \n",
    "    return on_trees\n",
    "\n",
    "pears = where_it_grows(\"Pear\")\n",
    "pears()\n",
    "\n",
    "strawberries = where_it_grows(\"strawberris\")\n",
    "strawberries()\n",
    "\n",
    "plums = where_it_grows(\"plums\")\n",
    "plums()"
   ]
  },
  {
   "cell_type": "code",
   "execution_count": 99,
   "metadata": {},
   "outputs": [
    {
     "output_type": "stream",
     "name": "stdout",
     "text": "You are calling on_trees for the 1 time.\nPear grow on trees.\nYou are calling on_trees for the 2 time.\nPear grow on trees.\nYou are calling on_trees for the 3 time.\nPear grow on trees.\nYou are calling on_trees for the 4 time.\nPear grow on trees.\nYou are calling on_trees for the 5 time.\nPear grow on trees.\n"
    }
   ],
   "source": [
    "# you can use it to have like a static field in your function\n",
    "def where_it_grows(fruit):\n",
    "    c = 0\n",
    "    def on_trees():\n",
    "        nonlocal c # without it it doesnt work cause you create new\n",
    "        c = c + 1\n",
    "        print(f\"You are calling on_trees for the {c} time.\")\n",
    "        print (f\"{fruit.capitalize()} grow on trees.\")\n",
    "    \n",
    "    return on_trees\n",
    "\n",
    "pears = where_it_grows(\"Pear\")\n",
    "pears()\n",
    "pears()\n",
    "pears()\n",
    "pears()\n",
    "pears()"
   ]
  },
  {
   "cell_type": "code",
   "execution_count": 101,
   "metadata": {},
   "outputs": [
    {
     "output_type": "error",
     "ename": "UnboundLocalError",
     "evalue": "local variable 'c' referenced before assignment",
     "traceback": [
      "\u001b[0;31m---------------------------------------------------------------------------\u001b[0m",
      "\u001b[0;31mUnboundLocalError\u001b[0m                         Traceback (most recent call last)",
      "\u001b[0;32m<ipython-input-101-bbb966d24f3d>\u001b[0m in \u001b[0;36m<module>\u001b[0;34m\u001b[0m\n\u001b[1;32m      9\u001b[0m \u001b[0;34m\u001b[0m\u001b[0m\n\u001b[1;32m     10\u001b[0m \u001b[0mpears\u001b[0m \u001b[0;34m=\u001b[0m \u001b[0mwhere_it_grows\u001b[0m\u001b[0;34m(\u001b[0m\u001b[0;34m\"Pear\"\u001b[0m\u001b[0;34m)\u001b[0m\u001b[0;34m\u001b[0m\u001b[0;34m\u001b[0m\u001b[0m\n\u001b[0;32m---> 11\u001b[0;31m \u001b[0mpears\u001b[0m\u001b[0;34m(\u001b[0m\u001b[0;34m)\u001b[0m\u001b[0;34m\u001b[0m\u001b[0;34m\u001b[0m\u001b[0m\n\u001b[0m",
      "\u001b[0;32m<ipython-input-101-bbb966d24f3d>\u001b[0m in \u001b[0;36mon_trees\u001b[0;34m()\u001b[0m\n\u001b[1;32m      2\u001b[0m     \u001b[0mc\u001b[0m \u001b[0;34m=\u001b[0m \u001b[0;36m0\u001b[0m\u001b[0;34m\u001b[0m\u001b[0;34m\u001b[0m\u001b[0m\n\u001b[1;32m      3\u001b[0m     \u001b[0;32mdef\u001b[0m \u001b[0mon_trees\u001b[0m\u001b[0;34m(\u001b[0m\u001b[0;34m)\u001b[0m\u001b[0;34m:\u001b[0m\u001b[0;34m\u001b[0m\u001b[0;34m\u001b[0m\u001b[0m\n\u001b[0;32m----> 4\u001b[0;31m         \u001b[0mc\u001b[0m \u001b[0;34m=\u001b[0m \u001b[0mc\u001b[0m \u001b[0;34m+\u001b[0m \u001b[0;36m1\u001b[0m\u001b[0;34m\u001b[0m\u001b[0;34m\u001b[0m\u001b[0m\n\u001b[0m\u001b[1;32m      5\u001b[0m         \u001b[0mprint\u001b[0m\u001b[0;34m(\u001b[0m\u001b[0;34mf\"You are calling on_trees for the {c} time.\"\u001b[0m\u001b[0;34m)\u001b[0m\u001b[0;34m\u001b[0m\u001b[0;34m\u001b[0m\u001b[0m\n\u001b[1;32m      6\u001b[0m         \u001b[0mprint\u001b[0m \u001b[0;34m(\u001b[0m\u001b[0;34mf\"{fruit.capitalize()} grow on trees.\"\u001b[0m\u001b[0;34m)\u001b[0m\u001b[0;34m\u001b[0m\u001b[0;34m\u001b[0m\u001b[0m\n",
      "\u001b[0;31mUnboundLocalError\u001b[0m: local variable 'c' referenced before assignment"
     ]
    }
   ],
   "source": [
    "def where_it_grows(fruit):\n",
    "    c = 0\n",
    "    def on_trees():\n",
    "        c = c + 1\n",
    "        print(f\"You are calling on_trees for the {c} time.\")\n",
    "        print (f\"{fruit.capitalize()} grow on trees.\")\n",
    "    \n",
    "    return on_trees\n",
    "\n",
    "pears = where_it_grows(\"Pear\")\n",
    "pears()"
   ]
  },
  {
   "cell_type": "markdown",
   "metadata": {},
   "source": [
    "Every class can at like a function, cause everything is an object in python. It just has to implement __cal__ method."
   ]
  },
  {
   "cell_type": "code",
   "execution_count": 102,
   "metadata": {},
   "outputs": [
    {
     "output_type": "stream",
     "name": "stdout",
     "text": "First argument is: akuku\n"
    }
   ],
   "source": [
    "class MyCallable:\n",
    "    def __call__(self, *args, **kwargs):\n",
    "        print(f\"First argument is: {args[0]}\")\n",
    "    \n",
    "myfun = MyCallable()\n",
    "myfun(\"akuku\")\n",
    ""
   ]
  },
  {
   "cell_type": "markdown",
   "metadata": {},
   "source": [
    "By denition, a decorator is a function that takes another function and extends the behavior of the latter function without explicitly modifying it."
   ]
  },
  {
   "cell_type": "code",
   "execution_count": 104,
   "metadata": {},
   "outputs": [
    {
     "output_type": "stream",
     "name": "stdout",
     "text": "Do something\nI am inside fun()\nDo after calling something\n"
    },
    {
     "output_type": "execute_result",
     "data": {
      "text/plain": "'value from fun is printed'"
     },
     "metadata": {},
     "execution_count": 104
    }
   ],
   "source": [
    "def any_decorator_name(fun):\n",
    "    def wrapper(any_name):\n",
    "        print(\"Do something\")\n",
    "        # do somethinf before the fun call\n",
    "        v = fun(any_name);\n",
    "        # do somthing after the fun call\n",
    "        print(\"Do after calling something\")\n",
    "        return v\n",
    "    \n",
    "    return wrapper\n",
    " \n",
    "@any_decorator_name    \n",
    "def fun(arg):\n",
    "    print(\"I am inside fun()\")\n",
    "    return \"value from fun is printed\"\n",
    "\n",
    "#fun = decorator(fun)\n",
    "fun(\"anything\")"
   ]
  },
  {
   "cell_type": "code",
   "execution_count": 105,
   "metadata": {},
   "outputs": [
    {
     "output_type": "stream",
     "name": "stdout",
     "text": "Hello World Home\n"
    }
   ],
   "source": [
    "def hello_home(fun):\n",
    "    def wrapper(*args, **kwargs):\n",
    "        fun(*args, **kwargs, where=\"Home\")\n",
    "        \n",
    "    return wrapper\n",
    "\n",
    "@hello_home\n",
    "def hello(other, where):\n",
    "    print(f\"Hello {other} {where}\")\n",
    "\n",
    "hello(\"World\")"
   ]
  },
  {
   "cell_type": "code",
   "execution_count": 110,
   "metadata": {},
   "outputs": [
    {
     "output_type": "stream",
     "name": "stdout",
     "text": "Hello Home'eee\n"
    }
   ],
   "source": [
    "# code currying\n",
    "# you can pass arguments to decorator\n",
    "def arg_hello(where_from_decorator):\n",
    "    def hello_home_decorator(fun):\n",
    "        def wrapper(*args, **kwargs):\n",
    "            #fun(*args, **kwargs, where=where_from_decorator)\n",
    "            fun( **kwargs, where=where_from_decorator)\n",
    "            #fun(*args)\n",
    "            \n",
    "        return wrapper\n",
    "    return hello_home_decorator\n",
    "\n",
    "@arg_hello(\"Home'eee\")\n",
    "def hello(where):\n",
    "    print(f\"Hello {where}\")\n",
    "\n",
    "hello(\"none enmpty example arg\")"
   ]
  },
  {
   "cell_type": "code",
   "execution_count": 111,
   "metadata": {},
   "outputs": [
    {
     "output_type": "stream",
     "name": "stdout",
     "text": "Calling hello('janek', lastname = 'Brodaty', age = 23)\nHello janek\nOther arguments: {'lastname': 'Brodaty', 'age': 23}\nLeaving hello with return: 'Break?'\n"
    },
    {
     "output_type": "execute_result",
     "data": {
      "text/plain": "'Break?'"
     },
     "metadata": {},
     "execution_count": 111
    }
   ],
   "source": [
    "def debug(func):\n",
    "    def wrapper_debug(*args, **kwargs):\n",
    "        args_repr = [repr(a) for a in args]\n",
    "        kwargs_repr = [f\"{k} = {v!r}\" for k,v in kwargs.items()]\n",
    "        signature = \", \".join(args_repr + kwargs_repr)\n",
    "        print(f\"Calling {func.__name__}({signature})\")\n",
    "        v = func(*args, **kwargs)\n",
    "        print(f\"Leaving {func.__name__} with return: {v!r}\")\n",
    "        return v\n",
    "    return wrapper_debug\n",
    "\n",
    "@debug  \n",
    "def hello(who, **kwargs):\n",
    "    print(f\"Hello {who}\")\n",
    "    print(f\"Other arguments: {kwargs!r}\")\n",
    "    return \"Break?\"\n",
    "\n",
    "hello(\"janek\", lastname=\"Brodaty\", age=23)"
   ]
  },
  {
   "cell_type": "code",
   "execution_count": 112,
   "metadata": {},
   "outputs": [
    {
     "output_type": "stream",
     "name": "stdout",
     "text": "Call of say_whee number: 1\nWheee!\nCall of say_whee number: 2\nWheee!\nCall of say_whee number: 3\nWheee!\nCall of say_whee number: 4\nWheee!\nCall of say_akuku number: 1\nAkuku!\nCall of say_akuku number: 2\nAkuku!\nsay_whee\n"
    }
   ],
   "source": [
    "import functools\n",
    "def count_calls(func):\n",
    "    \n",
    "    @functools.wraps(func) # for proper function name and other stuff\n",
    "    def wrapper(*args, **kwargs):\n",
    "        wrapper.num_calls += 1 # here we are attaching a new value\n",
    "        print(f\"Call of {func.__name__} number: {wrapper.num_calls}\")\n",
    "        return func(*args, **kwargs)\n",
    "    \n",
    "    wrapper.num_calls = 0\n",
    "    return wrapper \n",
    "\n",
    "@count_calls\n",
    "def say_whee():\n",
    "    print(\"Wheee!\")\n",
    "    \n",
    "@count_calls\n",
    "def say_akuku():\n",
    "    print(\"Akuku!\")\n",
    "    \n",
    "say_whee()  \n",
    "say_whee()  \n",
    "say_whee()\n",
    "say_whee()\n",
    "say_akuku()\n",
    "say_akuku()\n",
    "print(say_whee.__name__)"
   ]
  },
  {
   "cell_type": "code",
   "execution_count": null,
   "metadata": {},
   "outputs": [],
   "source": []
  },
  {
   "cell_type": "code",
   "execution_count": null,
   "metadata": {},
   "outputs": [],
   "source": []
  }
 ]
}